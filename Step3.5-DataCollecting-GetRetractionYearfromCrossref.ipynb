{
 "cells": [
  {
   "cell_type": "code",
   "execution_count": null,
   "metadata": {},
   "outputs": [],
   "source": [
    "import pandas\n",
    "import numpy\n",
    "import requests\n",
    "import time"
   ]
  },
  {
   "cell_type": "code",
   "execution_count": null,
   "metadata": {},
   "outputs": [],
   "source": [
    "# Set path --- Link to the box folder with your name\n",
    "# Download Box Desktop to copy the pathname\n",
    "\n",
    "# Input\n",
    "# Folder name: step3-outputfile\n",
    "box_path_1 = {enterdirectorytofolder}\n",
    "\n",
    "# Output\n",
    "# Folder name: step3-inputfile\n",
    "box_path_2 = {enterdirectorytofolder}"
   ]
  },
  {
   "cell_type": "code",
   "execution_count": null,
   "metadata": {},
   "outputs": [],
   "source": [
    "# Import known retraction list-2\n",
    "date = pd.read_csv(box_path_1 + '-knownretractionlist-2.csv')\n",
    "date.info()"
   ]
  },
  {
   "cell_type": "code",
   "execution_count": null,
   "metadata": {},
   "outputs": [],
   "source": [
    "filter_1 = date[date.source.str.contains('Crossref')]\n",
    "filter_2 = filter_1[~filter_1.source.str.contains('Retraction Watch')]\n",
    "\n",
    "filter_2.source.value_counts()"
   ]
  },
  {
   "cell_type": "code",
   "execution_count": null,
   "metadata": {},
   "outputs": [],
   "source": [
    "url_base = 'https://api.crossref.org/works/{}'\n",
    "\n",
    "crossref_dois = filter_2['DOI'].tolist()\n",
    "crossref_dois_chunks = np.array_split(crossref_dois, 104)\n",
    "\n",
    "\n",
    "output = box_path_2+ '-retractionyear-crossref.tsv'\n",
    "with open(output, 'a') as fout:\n",
    "    line = ['DOI', 'retraction-date']\n",
    "    line = '\\t'.join(line) + '\\n'\n",
    "    fout.write(line)\n",
    "    \n",
    "for chunk in crossref_dois_chunks:\n",
    "    start_time = time.time()\n",
    "    for doi in chunk:\n",
    "        try:\n",
    "            url = url_base.format(doi)\n",
    "            result = requests.get(url)\n",
    "            result = result.json()\n",
    "            #print(result)\n",
    "            #print(result['message'])\n",
    "\n",
    "            date_parts = result['message']['update-to'][0]['updated']['date-parts'][0]\n",
    "            year = date_parts[0]\n",
    "\n",
    "            new_line = [doi, str(year)]\n",
    "            new_line = '\\t'.join(new_line) + '\\n'\n",
    "            with open(output, 'a') as fout:\n",
    "                fout.write(new_line)\n",
    "        except:\n",
    "            print(doi)\n",
    "\n",
    "        end_time = time.time()\n",
    "\n",
    "    process_time = end_time - start_time\n",
    "    \n",
    "    time.sleep(3)\n",
    "\n",
    "print(process_time)"
   ]
  }
 ],
 "metadata": {
  "kernelspec": {
   "display_name": "Python 3",
   "language": "python",
   "name": "python3"
  },
  "language_info": {
   "codemirror_mode": {
    "name": "ipython",
    "version": 3
   },
   "file_extension": ".py",
   "mimetype": "text/x-python",
   "name": "python",
   "nbconvert_exporter": "python",
   "pygments_lexer": "ipython3",
   "version": "3.8.3"
  }
 },
 "nbformat": 4,
 "nbformat_minor": 4
}
