{
 "cells": [
  {
   "cell_type": "markdown",
   "id": "d8abd985",
   "metadata": {},
   "source": [
    "### This process uses PubMedID in sources without DOI and search through Unionlist, Web of Knowledge and Scopus to update the DOI of the affected items.\n",
    "- BCI, BIOABS, CCC, Medline, PubMed, Scopus, and Web of Science Core are the databases with PubMedIDs to which this approach is applicable\n",
    "\n",
    "####  Input File:  \n",
    "   - Union list of retracted publication\n",
    "       - unionlist/unionlist_{date}.csv (from Step 1) <br> <br>\n",
    "  \n",
    "   - Retracted publication records with \"recordsnodoi_\" from the above sources:  \n",
    "       - pubmed/pubmed_recordsnodoi_{date}.csv\n",
    "       - webofscience/bci_recordsnodoi_{date}.csv\n",
    "       - webofscience/bioabs_recordsnodoi_{date}.csv\n",
    "       - webofscience/ccc_recordsnodoi_{date}.csv\n",
    "       - webofscience/medline_recordsnodoi_{date}.csv\n",
    "       - webofscience/webofsciencecore_recordsnodoi_{date}.csv\n",
    "       - scopus/scopus_recordsnodoi_{date}.csv\n",
    "       - retractionwatch/retractionwatch_recordsnodoi_{date}.csv\n",
    "      <br><br>\n",
    "   - Overveiw result from Step 1\n",
    "        - result/datasources_overview.csv\n",
    "\n",
    "#### Output File: \n",
    "   - unionlist/unionlist_with_nodoi_{date}.csv\n",
    "   - unionlist/unionlist_duplicated_pmids_{date}.csv\n",
    "   - overview table results\n",
    "\n"
   ]
  },
  {
   "cell_type": "code",
   "execution_count": null,
   "id": "c271c603",
   "metadata": {},
   "outputs": [],
   "source": [
    "import re\n",
    "import time,datetime\n",
    "\n",
    "import os\n",
    "import csv\n",
    "import numpy as np\n",
    "import unicodedata\n",
    "import json\n",
    "\n",
    "import matplotlib.pyplot as plt\n",
    "import pandas as pd\n",
    "from tqdm import tqdm\n",
    "import requests\n",
    "import time,datetime"
   ]
  },
  {
   "cell_type": "code",
   "execution_count": null,
   "id": "4ef78179",
   "metadata": {},
   "outputs": [],
   "source": [
    "\"\"\"\n",
    "Targeting the retraction_index_path\n",
    "\"\"\"\n",
    "\n",
    "retraction_index_path = os.path.abspath('./.')\n",
    "retraction_index_path\n",
    "\n",
    "data_dir = retraction_index_path+'/data/' # data directory\n",
    "result_dir = retraction_index_path+'/result/'\n"
   ]
  },
  {
   "cell_type": "markdown",
   "id": "5cc81b09",
   "metadata": {},
   "source": [
    "### Configuration File"
   ]
  },
  {
   "cell_type": "code",
   "execution_count": null,
   "id": "c392f2ef",
   "metadata": {},
   "outputs": [],
   "source": [
    "# Load configuration\n",
    "con_file = open(retraction_index_path+\"/config.json\")\n",
    "config = json.load(con_file)\n",
    "con_file.close()\n",
    "\n",
    "# Initializing variable for configuration file\n",
    "my_email = config['my_email']\n",
    "elsevier_api_key = config['Elsevier_APIKEY']\n",
    "elsevier_insttoken = config['insttoken']\n",
    "ieee_xplore_api_key = config['IEEEXplore_APIKEY']\n",
    "wos_api_key = config['WoS_APIKEY']\n",
    "ads_api_key= config['ADS']"
   ]
  },
  {
   "cell_type": "code",
   "execution_count": null,
   "id": "77fc9181",
   "metadata": {},
   "outputs": [],
   "source": [
    "def convert_unicode(string: str) -> str:\n",
    "    \"\"\"\n",
    "    It takes a string and passes it through different encoding parameter phases\n",
    "    E.g. '10.\\u200b1105/\\u200btpc.\\u200b010357' ->  '10.1105/tpc.010357'\n",
    "    \n",
    "    :param string: variable to be encoded\n",
    "    :return: the actual string value devoided of encoded character\n",
    "    \"\"\"\n",
    "    \n",
    "    string = unicodedata.normalize('NFKD', string).encode('iso-8859-1', 'ignore').decode('iso-8859-1')\n",
    "    string = unicodedata.normalize('NFKD', string).encode('latin1', 'ignore').decode('latin1')\n",
    "    string = unicodedata.normalize('NFKD', string).encode('cp1252', 'ignore').decode('cp1252')\n",
    "    return string\n"
   ]
  },
  {
   "cell_type": "code",
   "execution_count": null,
   "id": "731da638",
   "metadata": {},
   "outputs": [],
   "source": [
    "def batch_pmids(pmids:list, cut:int)-> list[list]:\n",
    "    \"\"\"\n",
    "    It divides the list pmids into batches for processing. \n",
    "    :param pmids: list of pmids \n",
    "    :param cut: maximum number of records to assign to a batch\n",
    "    \n",
    "    :return: list of batches of pmids\n",
    "    \"\"\"\n",
    "    pmids_batches=[]\n",
    "    \n",
    "    while len(pmids) >= cut:\n",
    "        selected_pmids= pmids[:cut]\n",
    "        pmids_batches.append(selected_pmids)\n",
    "#         print(selected_pmids)    \n",
    "        pmids = pmids[cut:]\n",
    "\n",
    "    if pmids:\n",
    "        pmids_batches.append(pmids)\n",
    "#         print(pmids)\n",
    "\n",
    "    return pmids_batches"
   ]
  },
  {
   "cell_type": "code",
   "execution_count": null,
   "id": "0d95d395",
   "metadata": {},
   "outputs": [],
   "source": [
    "\"\"\"\n",
    "Input the date you retrieve retraction publications for each database\n",
    "\n",
    "Update the date for each database format: YYYY-MM-DD e.g. 2024-02-13\n",
    "\"\"\"\n",
    "\n",
    "getdate = {'scopus': '2024-07-05',\n",
    "            'crossref':'2024-07-03',\n",
    "            'retractionwatch': '2024-07-03',\n",
    "            'pubmed': '2024-07-03',\n",
    "            'geobase': '2024-07-05',\n",
    "            'compendex': '2024-07-09',\n",
    "                \n",
    "            'bci': '2024-07-03',\n",
    "            'bioabs': '2024-07-03',\n",
    "            'ccc': '2024-07-03',\n",
    "            'medline': '2024-07-03',\n",
    "            'webofsciencecore': '2024-07-03',\n",
    "           \n",
    "            'unionlist':'2024-07-09'} \n"
   ]
  },
  {
   "cell_type": "code",
   "execution_count": null,
   "id": "7063e377",
   "metadata": {},
   "outputs": [],
   "source": [
    "# Read Union_list\n",
    "unionlist = pd.read_csv(data_dir+f\"unionlist/unionlist_{getdate['unionlist']}.csv\").drop('Unnamed: 0',axis=1)\n",
    "unionlist['PubMedID'] = unionlist['PubMedID'].fillna(0).astype(int).replace(0,'').astype(str)\n",
    "print('The total number of retracted items is ',len(unionlist))\n",
    "unionlist.head()"
   ]
  },
  {
   "cell_type": "code",
   "execution_count": null,
   "id": "f19698f8",
   "metadata": {},
   "outputs": [],
   "source": [
    "# Check for duplicates within DOI column\n",
    "unionlist[unionlist['DOI'].duplicated('keep'==False)]"
   ]
  },
  {
   "cell_type": "markdown",
   "id": "08bcd8f4",
   "metadata": {},
   "source": [
    "## Stage1: Unionlist Update: Update the 'source_name' for Items without DOI but PubMedID found in the Unionlist\n",
    "-  Update Unionlist: Add ‘source_name' to Items with no DOI that have PubMedID in the Unionlist"
   ]
  },
  {
   "cell_type": "code",
   "execution_count": null,
   "id": "b0952925",
   "metadata": {},
   "outputs": [],
   "source": [
    "\"\"\"\n",
    "Note: It is important to acknowledge that while an item in a source may not have a DOI, the same item may \n",
    "have a DOI in other sources. To identify such cases, PubMedID was used. \n",
    "\n",
    "To modify the unionlist e.g. for PubMed:\n",
    "- Identify items with no DOI in PubMed <- pubmed_nodoi\n",
    "- Find items with no DOI in PubMed in the unionlist using PubMedID <- pubmed_nodoi_pmids_in_unionlist\n",
    "- Add 'PubMed' to item source(s) in unionlist that shared PubMedID with pubmed_nodoi_pmids_in_unionlist\n",
    "\n",
    "\"\"\"\n",
    "pass"
   ]
  },
  {
   "cell_type": "code",
   "execution_count": null,
   "id": "0cfbbbc0",
   "metadata": {},
   "outputs": [],
   "source": [
    "# Getting items from df that have no DOI but covered in the union_list\n",
    "\n",
    "unionlist_tempo= unionlist.copy(deep=True) # Use for verifying update in sources\n",
    "\n",
    "def update_sourceDOI_withPubMedID(df: pd.DataFrame, db_source: str):\n",
    "    \"\"\"\n",
    "    It updates the source of an item in Unionlist: Items that have no DOI but have PubMedID from another source.\n",
    "    When the PubMedID matches the the Unionlist the source will inherit the DOI from the Unionlist.\n",
    "    \n",
    "    :param df: the database that has items without DOI\n",
    "    :param db_source: the name of the database that will be used in updating the Unionlist\n",
    "    \n",
    "    :return: df_record_updated: dataframe of items updated in the unionlist with the additional database (db_source)\n",
    "    \"\"\"\n",
    "\n",
    "    df['DOI']= df['DOI'].fillna('')\n",
    "    df['DOI']=df['DOI'].astype(str)\n",
    "    df_nodoi = df[~df['DOI'].str.startswith('10')]\n",
    "    \n",
    "\n",
    "    df_pmids= set(df_nodoi[df_nodoi['PubMedID']!='']['PubMedID']) # get PubMedIDs in DF\n",
    "\n",
    "\n",
    "    df_nodoi_pmids_in_unionlist= list(set(unionlist[unionlist['PubMedID'].isin(df_pmids)]['PubMedID']))\n",
    "\n",
    "\n",
    "    \n",
    "    # Count number of 'PubMed' before update\n",
    "    ul_before= unionlist_tempo[unionlist_tempo['source'].str.contains(db_source)]\n",
    "    before_count= len(ul_before)\n",
    "    ul_before_loc = ul_before[ul_before['source'].str.contains(db_source)].index # Get loc of record before update \n",
    "\n",
    "    \n",
    "    # Updating the source where PubMedID matches\n",
    "    unionlist.loc[unionlist['PubMedID'].isin(df_nodoi_pmids_in_unionlist), 'source']+='; ' + db_source #'; PubMed'\n",
    "    \n",
    "    \"\"\"\n",
    "    Verify the update 'PubMed source Update'\n",
    "    \"\"\"\n",
    "\n",
    "    # Count number of 'PubMed' after update\n",
    "    ul_after= unionlist[unionlist['source'].str.contains(db_source)]\n",
    "\n",
    "    after_count= len(ul_after)\n",
    "    ul_after_loc = ul_after[ul_after['source'].str.contains(db_source)].index # Get loc of record after update\n",
    "    \n",
    "    \n",
    "    updated_loc= list(set(ul_after_loc) - set(ul_before_loc)) # Get loc of record that got updated\n",
    "    df_record_updated= unionlist.loc[updated_loc]\n",
    "    \n",
    "    \"\"\"\n",
    "    Getting instance of update\n",
    "    \"\"\"\n",
    "\n",
    "    print(f'The total number of PubMedID in {db_source} that matched Unionlist is {len(df_nodoi_pmids_in_unionlist)}')\n",
    "\n",
    "    print(f\"The total number of items with '{db_source}' source before update is {before_count} \")\n",
    "    print(f\"The total number of items with '{db_source}' source after update is {after_count} \")\n",
    "    \n",
    "    print(f\"The total number of items updated with '{db_source}' source in the unionlist is  {after_count - before_count} \")\n",
    "\n",
    "    \n",
    "    return df_record_updated"
   ]
  },
  {
   "cell_type": "markdown",
   "id": "79b92c3f",
   "metadata": {},
   "source": [
    "#### PubMed: Matching up Items with No DOI using PubMedID & Updating the Unionlist"
   ]
  },
  {
   "cell_type": "code",
   "execution_count": null,
   "id": "730cea29",
   "metadata": {},
   "outputs": [],
   "source": [
    "\"\"\"\n",
    "Loading items with PubMedIDs but No DOI in PubMed\n",
    "\"\"\"\n",
    "   \n",
    "\n",
    "pubmed_nodoi = pd.read_csv(data_dir+'pubmed/pubmed_recordsnodoi_'+getdate['pubmed']+'.csv')\n",
    "\n",
    "# Remove decimal part of 'PubMedID' in case it has one\n",
    "pubmed_nodoi['PubMedID']= pubmed_nodoi['PubMedID'].fillna('').astype(str).str.split('.').str[0]\n",
    "\n",
    "\n",
    "\"\"\"\n",
    "Update Items in the Unionlist with PubMed Source that PubMedID matches\n",
    "\"\"\"\n",
    "pubmed_pmids_in_unionlist= update_sourceDOI_withPubMedID(pubmed_nodoi, 'PubMed')"
   ]
  },
  {
   "cell_type": "code",
   "execution_count": null,
   "id": "9bb326f3",
   "metadata": {},
   "outputs": [],
   "source": [
    "\"\"\"\n",
    "Verify the update: PubMed vs. Unionlist\n",
    "\"\"\"\n",
    "pd.set_option('display.max_colwidth', None) # View entire cell value in Jupyter without truncation\n",
    "print(pubmed_pmids_in_unionlist.iloc[0]['PubMedID'])\n",
    "pubmed_nodoi[pubmed_nodoi['PubMedID'].str.contains(pubmed_pmids_in_unionlist.iloc[0]['PubMedID'])]"
   ]
  },
  {
   "cell_type": "code",
   "execution_count": null,
   "id": "1f92fab8",
   "metadata": {},
   "outputs": [],
   "source": [
    "# Checking the Update in Unionlist\n",
    "unionlist[unionlist['PubMedID'].str.contains(pubmed_pmids_in_unionlist.iloc[0]['PubMedID'])]"
   ]
  },
  {
   "cell_type": "markdown",
   "id": "dd2b0471",
   "metadata": {},
   "source": [
    "#### BCI: Matching up Items with No DOI using PubMedID & Updating the Unionlist"
   ]
  },
  {
   "cell_type": "code",
   "execution_count": null,
   "id": "675780b0",
   "metadata": {},
   "outputs": [],
   "source": [
    "\"\"\"\n",
    "Loading items with PubMedIDs but No DOI in BCI\n",
    "\"\"\"\n",
    "\n",
    "bci_nodoi = pd.read_csv(data_dir+'webofscience/bci_recordsnodoi_'+getdate['bci']+'.csv')\n",
    "\n",
    "# Remove decimal part of 'PubMedID' in case it has one\n",
    "bci_nodoi['PubMedID']= bci_nodoi['PubMedID'].fillna('').astype(str).str.split('.').str[0]\n"
   ]
  },
  {
   "cell_type": "code",
   "execution_count": null,
   "id": "9e814a3e",
   "metadata": {},
   "outputs": [],
   "source": [
    "\"\"\"\n",
    "Update Items in the unionlist with BCI Source that PubMedID matches\n",
    "\"\"\"\n",
    "bci_pmids_in_unionlist= update_sourceDOI_withPubMedID(bci_nodoi, 'BCI')"
   ]
  },
  {
   "cell_type": "code",
   "execution_count": null,
   "id": "83e937cd",
   "metadata": {},
   "outputs": [],
   "source": [
    "\"\"\"\n",
    "Verify the update: BCI vs. Unionlist\n",
    "\"\"\"\n",
    "print(bci_pmids_in_unionlist.iloc[0]['PubMedID'])\n",
    "bci_nodoi[bci_nodoi['PubMedID'].str.contains(bci_pmids_in_unionlist.iloc[0]['PubMedID'])]"
   ]
  },
  {
   "cell_type": "code",
   "execution_count": null,
   "id": "1412a263",
   "metadata": {},
   "outputs": [],
   "source": [
    "# Checking the Update in Unionlist\n",
    "unionlist[unionlist['PubMedID'].str.contains(bci_pmids_in_unionlist.iloc[0]['PubMedID'])]"
   ]
  },
  {
   "cell_type": "markdown",
   "id": "80ec588c",
   "metadata": {},
   "source": [
    "#### BIOABS: Matching up Items with No DOI using PubMedID & Updating the Unionlist"
   ]
  },
  {
   "cell_type": "code",
   "execution_count": null,
   "id": "c68498a8",
   "metadata": {},
   "outputs": [],
   "source": [
    "\"\"\"\n",
    "Loading items with PubMedIDs but No DOI in BIOABS\n",
    "\"\"\"\n",
    "\n",
    "bioabs_nodoi = pd.read_csv(data_dir+'webofscience/bioabs_recordsnodoi_'+getdate['bioabs']+'.csv')\n",
    "\n",
    "# Remove decimal part of 'PubMedID' in case it has one\n",
    "bioabs_nodoi['PubMedID']= bioabs_nodoi['PubMedID'].fillna('').astype(str).str.split('.').str[0]\n",
    "\n",
    "\n",
    "\"\"\"\n",
    "Update Items in the unionlist with BIOABS Source that PubMedID matches\n",
    "\"\"\"\n",
    "bioabs_pmids_in_unionlist= update_sourceDOI_withPubMedID(bioabs_nodoi, 'BIOABS')"
   ]
  },
  {
   "cell_type": "code",
   "execution_count": null,
   "id": "a7dfe9b7",
   "metadata": {},
   "outputs": [],
   "source": [
    "\"\"\"\n",
    "Verify the update: BIOABS vs. Unionlist\n",
    "\"\"\"\n",
    "print(bioabs_pmids_in_unionlist.iloc[0]['PubMedID'])\n",
    "bioabs_nodoi[bioabs_nodoi['PubMedID'].str.contains(bioabs_pmids_in_unionlist.iloc[0]['PubMedID'])]"
   ]
  },
  {
   "cell_type": "code",
   "execution_count": null,
   "id": "3ef29bac",
   "metadata": {},
   "outputs": [],
   "source": [
    "# Checking the Update in Unionlist\n",
    "unionlist[unionlist['PubMedID'].str.contains(bioabs_pmids_in_unionlist.iloc[0]['PubMedID'])]"
   ]
  },
  {
   "cell_type": "markdown",
   "id": "4611588e",
   "metadata": {},
   "source": [
    "#### CCC: Matching up Items with No DOI using PubMedID & Updating the Unionlist"
   ]
  },
  {
   "cell_type": "code",
   "execution_count": null,
   "id": "ed9d91b9",
   "metadata": {},
   "outputs": [],
   "source": [
    "\"\"\"\n",
    "Loading items with PubMedIDs but No DOI in CCC\n",
    "\"\"\"\n",
    "\n",
    "ccc_nodoi = pd.read_csv(data_dir+'webofscience/ccc_recordsnodoi_'+getdate['ccc']+'.csv')\n",
    "\n",
    "# Remove decimal part of 'PubMedID' in case it has one\n",
    "ccc_nodoi['PubMedID']= ccc_nodoi['PubMedID'].fillna('').astype(str).str.split('.').str[0]\n",
    "\n",
    "\n",
    "\"\"\"\n",
    "Update Items in the unionlist with CCC Source that PubMedID matches\n",
    "\"\"\"\n",
    "ccc_pmids_in_unionlist= update_sourceDOI_withPubMedID(ccc_nodoi, 'CCC')"
   ]
  },
  {
   "cell_type": "code",
   "execution_count": null,
   "id": "fcfea399",
   "metadata": {},
   "outputs": [],
   "source": [
    "\"\"\"\n",
    "Verify the update: : CCC vs. Unionlist\n",
    "\"\"\"\n",
    "print(ccc_pmids_in_unionlist.iloc[0]['PubMedID'])\n",
    "ccc_nodoi[ccc_nodoi['PubMedID'].str.contains(ccc_pmids_in_unionlist.iloc[0]['PubMedID'])]"
   ]
  },
  {
   "cell_type": "code",
   "execution_count": null,
   "id": "c0f575e2",
   "metadata": {},
   "outputs": [],
   "source": [
    "# Checking the Update in Unionlist\n",
    "unionlist[unionlist['PubMedID'].str.contains(ccc_pmids_in_unionlist.iloc[0]['PubMedID'])]"
   ]
  },
  {
   "cell_type": "markdown",
   "id": "dfee56ff",
   "metadata": {},
   "source": [
    "#### Medline: Matching up Items with No DOI using PubMedID & Updating the Unionlist"
   ]
  },
  {
   "cell_type": "code",
   "execution_count": null,
   "id": "04c64142",
   "metadata": {},
   "outputs": [],
   "source": [
    "\"\"\"\n",
    "Loading items with PubMedIDs but No DOI in Medline\n",
    "\"\"\"\n",
    "\n",
    "medline_nodoi = pd.read_csv(data_dir+'webofscience/medline_recordsnodoi_'+getdate['medline']+'.csv')\n",
    "\n",
    "# Remove decimal part of 'PubMedID' in case it has one\n",
    "medline_nodoi['PubMedID']= medline_nodoi['PubMedID'].fillna('').astype(str).str.split('.').str[0]\n",
    "\n",
    "\n",
    "\"\"\"\n",
    "Update Items in the unionlist with Medline Source that PubMedID matches\n",
    "\"\"\"\n",
    "medline_pmids_in_unionlist= update_sourceDOI_withPubMedID(medline_nodoi, 'Medline')"
   ]
  },
  {
   "cell_type": "code",
   "execution_count": null,
   "id": "9a25117c",
   "metadata": {},
   "outputs": [],
   "source": [
    "\"\"\"\n",
    "Verify the update: : Medline vs. Unionlist\n",
    "\"\"\"\n",
    "print(medline_pmids_in_unionlist.iloc[0]['PubMedID'])\n",
    "medline_nodoi[medline_nodoi['PubMedID'].str.contains(medline_pmids_in_unionlist.iloc[0]['PubMedID'])]"
   ]
  },
  {
   "cell_type": "code",
   "execution_count": null,
   "id": "891a3545",
   "metadata": {},
   "outputs": [],
   "source": [
    "# Checking the Update in Unionlist\n",
    "unionlist[unionlist['PubMedID'].str.contains(medline_pmids_in_unionlist.iloc[0]['PubMedID'])]"
   ]
  },
  {
   "cell_type": "markdown",
   "id": "e82a24ab",
   "metadata": {},
   "source": [
    "#### Web of Science Core: Matching up Items with No DOI using PubMedID & Updating the Unionlist"
   ]
  },
  {
   "cell_type": "code",
   "execution_count": null,
   "id": "01dd15e6",
   "metadata": {},
   "outputs": [],
   "source": [
    "\"\"\"\n",
    "Loading items with PubMedIDs but No DOI in Web of Science Core\n",
    "\"\"\"\n",
    "\n",
    "webofsciencecore_nodoi = pd.read_csv(data_dir+'webofscience/webofsciencecore_recordsnodoi_'+getdate['webofsciencecore']+'.csv')\n",
    "\n",
    "# Remove decimal part of 'PubMedID' in case it has one\n",
    "webofsciencecore_nodoi['PubMedID']= webofsciencecore_nodoi['PubMedID'].fillna('').astype(str).str.split('.').str[0]\n",
    "\n",
    "\n",
    "\"\"\"\n",
    "Update Items in the unionlist with Web of Science Core source that PubMedID matches\n",
    "\"\"\"\n",
    "webofsciencecore_pmids_in_unionlist= update_sourceDOI_withPubMedID(webofsciencecore_nodoi, 'WoS_Core')"
   ]
  },
  {
   "cell_type": "code",
   "execution_count": null,
   "id": "c9e82438",
   "metadata": {},
   "outputs": [],
   "source": [
    "\"\"\"\n",
    "Verify the update: Web of Science Core vs. Unionlist\n",
    "\"\"\"\n",
    "print(webofsciencecore_pmids_in_unionlist.iloc[0]['PubMedID'])\n",
    "webofsciencecore_nodoi[webofsciencecore_nodoi['PubMedID'].str.contains(webofsciencecore_pmids_in_unionlist.iloc[0]['PubMedID'])]"
   ]
  },
  {
   "cell_type": "code",
   "execution_count": null,
   "id": "e7b09cc6",
   "metadata": {},
   "outputs": [],
   "source": [
    "# Checking the Update in Unionlist\n",
    "unionlist[unionlist['PubMedID'].str.contains(webofsciencecore_pmids_in_unionlist.iloc[0]['PubMedID'])]"
   ]
  },
  {
   "cell_type": "markdown",
   "id": "c4c68658",
   "metadata": {},
   "source": [
    "#### Scopus: Matching up Items with No DOI using PubMedID & Updating the Unionlist"
   ]
  },
  {
   "cell_type": "code",
   "execution_count": null,
   "id": "260e88ea",
   "metadata": {},
   "outputs": [],
   "source": [
    "\"\"\"\n",
    "Loading items with PubMedIDs but No DOI in Scopus\n",
    "\"\"\"   \n",
    "\n",
    "scopus_nodoi = pd.read_csv(data_dir+'scopus/scopus_recordsnodoi_'+getdate['scopus']+'.csv')\n",
    "\n",
    "# Remove decimal part of 'PubMedID' incase it has one\n",
    "scopus_nodoi['PubMedID']= scopus_nodoi['PubMedID'].fillna('').astype(str).str.split('.').str[0]\n",
    "\n",
    "\n",
    "\"\"\"\n",
    "Update Items in the unionlist with Scopus source that PubMedID matches\n",
    "\"\"\"\n",
    "scopus_pmids_in_unionlist= update_sourceDOI_withPubMedID(scopus_nodoi, 'Scopus')"
   ]
  },
  {
   "cell_type": "code",
   "execution_count": null,
   "id": "109a6048",
   "metadata": {},
   "outputs": [],
   "source": [
    "\"\"\"\n",
    "Verify the update: Scopus vs. Unionlist\n",
    "\"\"\"\n",
    "print(scopus_pmids_in_unionlist.iloc[0]['PubMedID'])\n",
    "scopus_nodoi[scopus_nodoi['PubMedID'].str.contains(scopus_pmids_in_unionlist.iloc[0]['PubMedID'])]"
   ]
  },
  {
   "cell_type": "code",
   "execution_count": null,
   "id": "f7d09f5b",
   "metadata": {},
   "outputs": [],
   "source": [
    "# Checking the Update in Unionlist\n",
    "unionlist[unionlist['PubMedID'].str.contains(scopus_pmids_in_unionlist.iloc[0]['PubMedID'])]"
   ]
  },
  {
   "cell_type": "markdown",
   "id": "69a75920",
   "metadata": {},
   "source": [
    "#### Retraction Watch: Matching up Items with No DOI using PubMedID & Updating the Unionlist"
   ]
  },
  {
   "cell_type": "code",
   "execution_count": null,
   "id": "76bfb0d3",
   "metadata": {},
   "outputs": [],
   "source": [
    "\"\"\"\n",
    "Loading items with PubMedIDs but No DOI in Retraction Watch\n",
    "\"\"\"\n",
    "   \n",
    "\n",
    "retractionwatch_nodoi = pd.read_csv(data_dir+'retractionwatch/retractionwatch_recordsnodoi_'+getdate['retractionwatch']+'.csv')\n",
    "\n",
    "# Remove decimal part of 'PubMedID' in case it has one\n",
    "retractionwatch_nodoi['PubMedID']= retractionwatch_nodoi['PubMedID'].fillna('').astype(str).str.split('.').str[0]\n",
    "\n",
    "\n",
    "\"\"\"\n",
    "Update Items in the unionlist with Retraction Watch source that PubMedID matches\n",
    "\"\"\"\n",
    "retractionwatch_pmids_in_unionlist= update_sourceDOI_withPubMedID(retractionwatch_nodoi, 'Retraction Watch')"
   ]
  },
  {
   "cell_type": "code",
   "execution_count": null,
   "id": "4e9fa6eb",
   "metadata": {},
   "outputs": [],
   "source": [
    "\"\"\"\n",
    "Verify the update: Retraction Watch vs. Unionlist\n",
    "\"\"\"\n",
    "print(retractionwatch_pmids_in_unionlist.iloc[0]['PubMedID'])\n",
    "retractionwatch_nodoi[retractionwatch_nodoi['PubMedID'].str.contains(retractionwatch_pmids_in_unionlist.iloc[0]['PubMedID'])]"
   ]
  },
  {
   "cell_type": "code",
   "execution_count": null,
   "id": "d89756d3",
   "metadata": {},
   "outputs": [],
   "source": [
    "# Checking the Update in Unionlist\n",
    "unionlist[unionlist['PubMedID'].str.contains(retractionwatch_pmids_in_unionlist.iloc[0]['PubMedID'])]"
   ]
  },
  {
   "cell_type": "code",
   "execution_count": null,
   "id": "d411c5b7",
   "metadata": {
    "scrolled": true
   },
   "outputs": [],
   "source": [
    "# Check for duplication of DOI \n",
    "# If a non-empty dataframe is returned, something has gone wrong\n",
    "unionlist[unionlist['DOI'].duplicated('keep'==False)]"
   ]
  },
  {
   "cell_type": "code",
   "execution_count": null,
   "id": "275201ab",
   "metadata": {},
   "outputs": [],
   "source": [
    "\"\"\"\n",
    "Compendex, Crossref, and GEOBASE do not index items with PubMedIDs\n",
    "\"\"\"\n",
    "pass"
   ]
  },
  {
   "cell_type": "code",
   "execution_count": null,
   "id": "0701fd17",
   "metadata": {},
   "outputs": [],
   "source": [
    "\"\"\"\n",
    "Total DOIs updated using PubMedID in the Unionlist\n",
    "\"\"\"\n",
    "\n",
    "with_doi_update= [len(bci_pmids_in_unionlist),len(bioabs_pmids_in_unionlist), len(ccc_pmids_in_unionlist),0,0,0,\n",
    "len(medline_pmids_in_unionlist), len(pubmed_pmids_in_unionlist), len(retractionwatch_pmids_in_unionlist), \n",
    "len(scopus_pmids_in_unionlist), len(webofsciencecore_pmids_in_unionlist)]\n",
    "\n",
    "\n",
    "overview2= pd.DataFrame()\n",
    " \n",
    "overview2['source']= ['BCI', 'BIOABS','CCC','Compendex','Crossref', 'GEOBASE', 'Medline', 'PubMed','Retraction Watch','Scopus','Web of Science Core']\n",
    "\n",
    "overview2['DOI_updated_withPubMedID']=with_doi_update\n",
    "overview2"
   ]
  },
  {
   "cell_type": "code",
   "execution_count": null,
   "id": "748b7bef",
   "metadata": {},
   "outputs": [],
   "source": [
    "overview2['DOI_updated_withPubMedID'].sum()"
   ]
  },
  {
   "cell_type": "markdown",
   "id": "00cb0824",
   "metadata": {},
   "source": [
    "## Stage2:  Match the Titles from Unionlist and the Titles from PubMed Items (without DOI)"
   ]
  },
  {
   "cell_type": "code",
   "execution_count": null,
   "id": "65f26466",
   "metadata": {},
   "outputs": [],
   "source": [
    "def clean_title(text: str)-> str:\n",
    "    \"\"\"\n",
    "    It removes special characters \"[:.{}/-]\" and words related to retraction from the text\n",
    "    \n",
    "    :param text: the input text \n",
    "    :return: the cleaned input text\n",
    "    \"\"\"\n",
    "    \n",
    "    remove_list= '(retracted to|retracted article|retracted|retraction to)'\n",
    "    \n",
    "#     print(text)\n",
    "#     text= str(text.lower())\n",
    "    text= text.strip()\n",
    "    text= re.sub(r'[:.{}/-]', '', text)\n",
    "    text= re.sub(r'^'+remove_list, '', text)\n",
    "    return text\n"
   ]
  },
  {
   "cell_type": "code",
   "execution_count": null,
   "id": "9d67e726",
   "metadata": {},
   "outputs": [],
   "source": [
    "def compare_names(au_doi:str, au_nodoi:str)->str:\n",
    "    \"\"\"\n",
    "    It matches items in authors in 'au_nodoi'  vs. 'au_doi'; and numbers that matched\n",
    "    \n",
    "    :au_doi: authors in unionlist\n",
    "    :au_nodoi: authors in PubMed without DOI\n",
    "    :return: numbers that match\n",
    "    \"\"\"\n",
    "    #print(au_doi)\n",
    "    count=0\n",
    "    len_au= 0\n",
    "    \n",
    "#     if (np.isnan(au_doi)) or (np.isnan(au_nodoi)):\n",
    "#         return '0'\n",
    "    if (isinstance(au_doi,str)) or (au_doi != '') or (~np.isnan(au_doi)):\n",
    "        if (isinstance(au_nodoi,str)) or (au_nodoi != '') or (~np.isnan(au_nodoi)):\n",
    "            au_names= au_nodoi.split(';')\n",
    "            len_au = len(au_names)\n",
    "#             print( au_names)\n",
    "            for name in au_names:\n",
    "#                 print(au_names)\n",
    "#                 print(name)\n",
    "                surname= name.split()[-1].strip()\n",
    "#                 print(surname, au_doi)\n",
    "                if surname in au_doi:\n",
    "#                     print(surname)\n",
    "                    count+=1\n",
    "        else:\n",
    "            return '0'\n",
    "    else:\n",
    "        return '0'\n",
    "\n",
    "    return f'{count}/{len_au}'\n",
    "                        \n",
    "    "
   ]
  },
  {
   "cell_type": "code",
   "execution_count": null,
   "id": "40213b34",
   "metadata": {},
   "outputs": [],
   "source": [
    "def compare(doi_item, nodoi_item)-> bool:\n",
    "    \"\"\"\n",
    "    It matches two items if they are the same. Our items of interest can be either venue or publication year\n",
    "    \n",
    "    :doi_item: first item\n",
    "    :nodoi_item: second item\n",
    "    :return: True (Yes,  same) or False (No, different) \n",
    "    \"\"\"\n",
    "    \n",
    "    flag = False\n",
    "    \n",
    "    # Compares Venue\n",
    "    if isinstance(doi_item,str) and isinstance(nodoi_item,str):\n",
    "        doi_item= doi_item.strip()\n",
    "        doi_item= re.sub(r'[:.{}/-]', '', doi_item)\n",
    "        \n",
    "        nodoi_item= nodoi_item.strip()\n",
    "        nodoi_item= re.sub(r'[:.{}/-]', '', nodoi_item)\n",
    "        \n",
    "        if doi_item.lower() == nodoi_item.lower():\n",
    "            flag = True\n",
    "            \n",
    "    # Compares Publication year\n",
    "    if isinstance(doi_item,int) and isinstance(nodoi_item,int):\n",
    "        if doi_item == nodoi_item:\n",
    "            flag = True\n",
    "    \n",
    "    return flag\n",
    "    "
   ]
  },
  {
   "cell_type": "code",
   "execution_count": null,
   "id": "bf735796",
   "metadata": {},
   "outputs": [],
   "source": [
    "# Cater for title with NA in the formation of unionlist\n",
    "unionlist[unionlist['Title'].isna()]"
   ]
  },
  {
   "cell_type": "code",
   "execution_count": null,
   "id": "cbd205db",
   "metadata": {},
   "outputs": [],
   "source": [
    "unionlist['Title']= unionlist['Title'].fillna('') "
   ]
  },
  {
   "cell_type": "code",
   "execution_count": null,
   "id": "160d8557",
   "metadata": {},
   "outputs": [],
   "source": [
    "# Cater for PubMed items without DOI that has title with NA\n",
    "pubmed_nodoi[pubmed_nodoi['Title'].isna()]"
   ]
  },
  {
   "cell_type": "code",
   "execution_count": null,
   "id": "41b53031",
   "metadata": {},
   "outputs": [],
   "source": [
    "pubmed_nodoi['Title']= pubmed_nodoi['Title'].fillna('')"
   ]
  },
  {
   "cell_type": "code",
   "execution_count": null,
   "id": "eb82dbe2",
   "metadata": {},
   "outputs": [],
   "source": [
    "unionlist.info()"
   ]
  },
  {
   "cell_type": "code",
   "execution_count": null,
   "id": "ffd4c39f",
   "metadata": {},
   "outputs": [],
   "source": [
    "\"\"\"\n",
    "Unionlist: Clean the Title column & Filtered for items that are not in PubMed\n",
    "\"\"\"\n",
    "\n",
    "unionlist['clean_title']= unionlist['Title'].astype(str)\n",
    "unionlist['clean_title']= unionlist['clean_title'].str.lower().apply(clean_title)\n",
    "\n",
    "unionlist_filtered= unionlist[~unionlist['source'].str.contains('PubMed')].copy(deep=True)\n",
    "unionlist_filtered.fillna('', inplace=True)\n",
    "\n",
    "#unionlist_filtered['Author'].isna().sum()"
   ]
  },
  {
   "cell_type": "code",
   "execution_count": null,
   "id": "80054b45",
   "metadata": {},
   "outputs": [],
   "source": [
    "\"\"\"\n",
    "PubMed_NoDOI: Preprocessing\n",
    "\"\"\"\n",
    "\n",
    "pubmed_nodoi['clean_title']= pubmed_nodoi['Title'].copy(deep=True)\n",
    "pubmed_nodoi['clean_title']= pubmed_nodoi['clean_title'].str.lower().apply(clean_title)\n",
    "\n",
    "pubmed_nodoi['Author'].fillna('', inplace=True)\n"
   ]
  },
  {
   "cell_type": "code",
   "execution_count": null,
   "id": "5a23ea0b",
   "metadata": {
    "scrolled": true
   },
   "outputs": [],
   "source": [
    "pubmed_nodoi[pubmed_nodoi['clean_title'].isin(unionlist_filtered['clean_title'])]"
   ]
  },
  {
   "cell_type": "code",
   "execution_count": null,
   "id": "df433088",
   "metadata": {},
   "outputs": [],
   "source": [
    "unionlist_filtered"
   ]
  },
  {
   "cell_type": "code",
   "execution_count": null,
   "id": "581dabbf",
   "metadata": {},
   "outputs": [],
   "source": [
    "\"\"\"\n",
    "Matching items from Unionlist and PubMed (without DOI)\n",
    "\"\"\"\n",
    "\n",
    "row=''\n",
    "compare_result= []\n",
    "nodoi_title= pubmed_nodoi['clean_title'].tolist()\n",
    "\n",
    "pubmed_nodoi_indexes = list(pubmed_nodoi.index)\n",
    "\n",
    "for (idx, row) in enumerate(unionlist_filtered.iterrows()):\n",
    "    idx_doi=row[0]\n",
    "    au_name_doi= row[1][1]\n",
    "    year_doi= int(row[1][3])\n",
    "    pmid_doi= str(row[1][6])\n",
    "    \n",
    "    venue_doi= row[1][4]\n",
    "    \n",
    "    unionlist_clean_title= row[1][-1]\n",
    "#     print(row)\n",
    "#     break\n",
    "    \n",
    "#     print(unionlist_clean_title)\n",
    "    # for idx2 in pubmed_nodoi_indexes:\n",
    "    for idx2, title in zip(pubmed_nodoi_indexes,nodoi_title):\n",
    "        idx_nodoi= idx2\n",
    "\n",
    "        if title != '':\n",
    "            ans_title= 'no'\n",
    "            \n",
    "            if title in unionlist_clean_title:\n",
    "                ans_title= 'yes'\n",
    "                \n",
    "#                 print(idx,'\\t', unionlist_clean_title)\n",
    "#                 print(idx2,'\\t',title)\n",
    "                \n",
    "                # Compare PubMedID\n",
    "                pmid_nodoi= str(pubmed_nodoi.loc[idx2]['PubMedID'])\n",
    "                ans_pmid= compare(pmid_doi, pmid_nodoi)\n",
    "    \n",
    "                # Compares year\n",
    "                year_nodoi= int(pubmed_nodoi.loc[idx2]['Year'])\n",
    "                ans_year= compare(year_doi, year_nodoi)\n",
    "#                 print(ans_year)\n",
    "                \n",
    "                # Compares venue\n",
    "                venue_nodoi= pubmed_nodoi.loc[idx2]['Journal']\n",
    "                ans_venue= compare(venue_doi, venue_nodoi)\n",
    "            \n",
    "                au_name_nodoi= pubmed_nodoi.loc[idx2]['Author']\n",
    "                \n",
    "                # Compares author\n",
    "#                 print(au_name_doi, type(au_name_doi))\n",
    "#                 print(au_name_nodoi, type(au_name_nodoi))\n",
    "                ans_author= compare_names(au_name_doi,au_name_nodoi)\n",
    "#                 print(ans_author)\n",
    "    \n",
    "                compare_result.append({'doi_loc':idx_doi, 'nodoi_loc':idx_nodoi,\n",
    "                                       'compared_pmid':ans_pmid,\n",
    "                                       'compared_year': ans_year, 'compared_venue': ans_venue, \n",
    "                                       'compared_author': ans_author\n",
    "                                      })"
   ]
  },
  {
   "cell_type": "code",
   "execution_count": null,
   "id": "cd2261e5",
   "metadata": {},
   "outputs": [],
   "source": [
    "pd.DataFrame(compare_result)"
   ]
  },
  {
   "cell_type": "markdown",
   "id": "9858298f",
   "metadata": {},
   "source": [
    "####  Title Match: Manually examine the records of the Unionlist (doi_loc) vs PubMed with no DOI (nodoi_loc)\n",
    "##### Manual inspection\n",
    "Comparing result(i.e. where title matches)from Unionlist and PubMed with NoDOI \n",
    " - Column 'doi_loc' represent Unionlist location\n",
    " - Column 'nodoi_loc' represent PubMed NoDOI location\n",
    " "
   ]
  },
  {
   "cell_type": "code",
   "execution_count": null,
   "id": "69257be5",
   "metadata": {},
   "outputs": [],
   "source": [
    "unionlist.loc[[82126]]"
   ]
  },
  {
   "cell_type": "code",
   "execution_count": null,
   "id": "cc33ef11",
   "metadata": {},
   "outputs": [],
   "source": [
    "pubmed_nodoi.loc[[221]]"
   ]
  },
  {
   "cell_type": "code",
   "execution_count": null,
   "id": "b7696c0c",
   "metadata": {},
   "outputs": [],
   "source": [
    "\"\"\"\n",
    "Result of manual inspection:\n",
    "\n",
    "Unionlist vs PubMed NoDOI\n",
    "unionlist.loc[[6131]] (10.1007/s10059-013-3067-1) vs. pubmed_nodoi.loc[[331]] (PMID: 11266114): Retraction notice vs. retracted item\n",
    "unionlist.loc[[6132]] (10.1007/s10059-013-3068-0) vs. pubmed_nodoi.loc[[321]] (PMID: 11710530): Retraction notice vs. retracted item\n",
    "unionlist.loc[[6133]] (10.1007/s10059-013-3069-z) vs. pubmed_nodoi.loc[[307]] (PMID: 12243356): Retraction notice vs. retracted item\n",
    "unionlist.loc[[6134]] (10.1007/s10059-013-3151-6) vs. pubmed_nodoi.loc[[209]] (PMID: 17202861): Retraction notice vs. retracted item\n",
    "unionlist.loc[[8527]] (10.1007/s12038-020-00116-4) vs. pubmed_nodoi.loc[[698]] (PMID: 32098911): Retraction notice vs. retracted item\n",
    "unionlist.loc[[46106]] (10.1136/bjsports-39-11-786ret) vs. pubmed_nodoi.loc[[242]] (PMID: 16244183): Retraction notice vs. retracted item\n",
    "unionlist.loc[[46107]] (10.1136/bjsports-39-5-249ret) vs. pubmed_nodoi.loc[[258]] (PMID: 15849282): Retraction notice vs. retracted item\n",
    "unionlist.loc[[46110]] (10.1136/bjsports-40-5-377ret) vs. pubmed_nodoi.loc[[228]] (PMID: 16632562): Retraction notice vs. retracted item\n",
    "- All of the above DOIs of retraction notices appear only in Crossref.\n",
    "\n",
    "unionlist.loc[[45521]] (10.1126/science.288.5475.2338; PMID: 17769842, PMID not noted as retracted on PubMed) vs.\n",
    "pubmed_nodoi.loc[[339]] (PMID: 10875912, noted as retracted on PubMed): \n",
    "Same article & journal published in different databases\n",
    "\n",
    "unionlist.loc[[82126]] (10.3727/000000006783981909; PMID: 28863745, not noted as retracted on PubMed) vs.\n",
    "pubmed_nodoi.loc[[221]] (PMID: 16898225, noted as retracted on PubMed):\n",
    "Same article & journal published in different databases\n",
    "\n",
    "If PMID is different but metadata are equal, nothing will be updated in the unionlist. \n",
    "\n",
    "No DOIs PMIDs are updated.\n",
    "\"\"\"\n",
    "pass"
   ]
  },
  {
   "cell_type": "markdown",
   "id": "0e7d52bf",
   "metadata": {},
   "source": [
    "## Stage2:  Search items in PubMed (without DOI) in Web of Science"
   ]
  },
  {
   "cell_type": "code",
   "execution_count": null,
   "id": "bddbfde4",
   "metadata": {},
   "outputs": [],
   "source": [
    "def wos_get_retracted_pubs_via_PubMedID(PubmedIDs: str):    \n",
    "    \"\"\"\n",
    "    It searches a given PMID (PubmedID) in Web of Knowledge (WoK)\n",
    "    \n",
    "    param PubmedIDs: the PMID to search\n",
    "    return: metadata of the result that matches in the WoK\n",
    "    \n",
    "    Gets the Web of Science Platform search results for a given query on retracted publications, via its API - pagination approach.\n",
    "    Check API documentation: \n",
    "    https://developer.clarivate.com./apis/woslite\n",
    "    #http://help.incites.clarivate.com/wosWebServicesLite/WebServicesLiteOverviewGroup/Introduction.html\n",
    "    \n",
    "    Allowable databases: \n",
    "    ARCI,BCI,BIOABS,BIOSIS,CABI,CCC,CSCD,DIIDW,DRCI,FSTA,INSPEC,KJD,MEDLINE,PPRN,RSCI,SCIELO,WOK,WOS,ZOOREC\"\n",
    "    :params filename: the directory filename to save the result of the search query\n",
    "    \"\"\"\n",
    "    \n",
    "    header = ['DOI', 'Uid','Title','Year','Month','Authors','Journal','Pub_type','PubMedID']\n",
    "\n",
    "    global wos_api_key\n",
    "\n",
    "\n",
    "    # Set the base URL for the WoS API\n",
    "    base_url = 'https://api.clarivate.com/apis/wos-starter/v1/documents'  # Uses WoS Starter API\n",
    "    \n",
    "    # Set your API key\n",
    "    api_key = wos_api_key\n",
    "\n",
    "    # Set the query parameters \n",
    "    query =   PubmedIDs  #'DT=\"Retracted Publication\"'\n",
    "\n",
    "    page_no = 1    # Starting index of the results (page)\n",
    "    total_counts =0\n",
    "    total = 0\n",
    "    page_size = 0\n",
    "    \n",
    "    \n",
    "\n",
    "    # Set the request headers with the API key\n",
    "    headers = {\n",
    "    'X-ApiKey': api_key,\n",
    "    'charset': 'UTF-8',\n",
    "    'Encoding': 'UTF-8'\n",
    "    }\n",
    "\n",
    "    \n",
    "    #####\n",
    "\n",
    "    all_results = []\n",
    "\n",
    "    # While loop for pagination\n",
    "    while True:\n",
    "        \n",
    "        params = {\n",
    "                'db': 'WOK', # WOK - retrieves items for all the databases\n",
    "                'q': query,       \n",
    "                'limit': 50, # maximum number of result on the page\n",
    "                'page':page_no }\n",
    "\n",
    "        response = requests.get(\n",
    "                base_url,\n",
    "                headers=headers,\n",
    "                params= params) # 15869,\n",
    "        \n",
    "\n",
    "\n",
    "      # Check the status code of the response\n",
    "    \n",
    "        if response.status_code == 200:\n",
    "            \n",
    "            # Extract the response content as JSON\n",
    "            data = response.json()\n",
    "            \n",
    "            count = data['metadata']['limit'] # counting number of items on a page\n",
    "            publications = data['hits']\n",
    "            results= wos_metadata_for_PubMedID(publications)              \n",
    "\n",
    "            #csvout.writerows(results) # write the result to file\n",
    "            \n",
    "            all_results.extend(results)\n",
    "\n",
    "            total_counts += int(len(publications)) # counting total number of items retrieved so far\n",
    "            \n",
    "            \n",
    "            # Calculating number of pages to iterate\n",
    "            total  = data['metadata']['total']\n",
    "            rem = 0 if total % 50 == 0 else 1 # calcuat\n",
    "            page_size = total//50 + rem\n",
    "                   \n",
    "            \n",
    "            page_no += 1 # next paging\n",
    "            if page_no > page_size:\n",
    "                break\n",
    "            #time.sleep(0.035)    \n",
    "        else:\n",
    "            # If the request was not successful, print the error message\n",
    "            print(f\"Request failed with status code: {response.status_code}\")\n",
    "            break\n",
    "    print(f'The total number of items searched from Web of Science is {total_counts}')\n",
    "    \n",
    "    return all_results"
   ]
  },
  {
   "cell_type": "code",
   "execution_count": null,
   "id": "7e9e4c96",
   "metadata": {},
   "outputs": [],
   "source": [
    "def wos_metadata_for_PubMedID(publications:list)->list:\n",
    "    \"\"\"\n",
    "    It extracts data from the output of Web of Science metadata\n",
    "    :publications: result from the Web of Science API request\n",
    "    :return: list of records from Web of Science\n",
    "    \"\"\"\n",
    "\n",
    "    results = []\n",
    "    for publication in publications:\n",
    "        \n",
    "        title= publication.get('title','')\n",
    "        authors = publication.get('names', '')\n",
    "\n",
    "\n",
    "        \n",
    "        if publication['identifiers']:\n",
    "            DOI= publication['identifiers'].get('doi','')\n",
    "            pmid = publication['identifiers'].get('pmid','')\n",
    "        else:\n",
    "            DOI= 'NoDOI'\n",
    "\n",
    "        journal, year, month = '','',''\n",
    "        if publication.get('source'):\n",
    "            source = publication.get('source', '')\n",
    "            journal = source.get('sourceTitle', '')\n",
    "            year = source.get('publishYear','')\n",
    "            month = source.get('publishMonth','')\n",
    "            \n",
    "        results.append([DOI, pmid, title,year,month,authors,journal]) #authors_names\n",
    "    return results"
   ]
  },
  {
   "cell_type": "code",
   "execution_count": null,
   "id": "bbe08eea",
   "metadata": {},
   "outputs": [],
   "source": [
    "def format_pmid_wos(PubMedIDs: list)->str:\n",
    "    \"\"\"\n",
    "    It formats the pmids into standard input format for Web of Science processing i.e. \n",
    "    \"PMID = '22508774' OR 16087821 OR PMID = '16087821'\"\n",
    "    \n",
    "    PubMedIDs: list of PMIDs\n",
    "    return: Format that WoS can process e.g.  \"PMID = '22508774' OR 16087821\"\n",
    "    \"\"\"\n",
    "    \n",
    "    formatted_pmids= \" OR \".join(f\"PMID = '{pmid}'\" for pmid in PubMedIDs)\n",
    "    \n",
    "    return formatted_pmids\n",
    "    "
   ]
  },
  {
   "cell_type": "code",
   "execution_count": null,
   "id": "99f3034e",
   "metadata": {},
   "outputs": [],
   "source": [
    "def validate_record_pubmed(df, pubmed_nodoi):\n",
    "    \"\"\"\n",
    "    It compares results from other sources with PubMed_NoDOI in terms of year, author, venue\n",
    "    \n",
    "    param df: the DataFrame we want to compare\n",
    "    pubmed_nodoi: the DataFrame of pubmed_nodoi\n",
    "    param result: the result of the comparison\n",
    "    \"\"\"\n",
    "     \n",
    "    result=[]\n",
    "    \n",
    "    pmids= df['PubMedID'].to_list()\n",
    "    \n",
    "    pmids_pubmed_nodoi= pubmed_nodoi['PubMedID'].to_list()\n",
    "    \n",
    "    for pmid in pmids:\n",
    "#        print(pmid)\n",
    "        if pmid in pmids_pubmed_nodoi:\n",
    "            df_idx= df[df['PubMedID']==pmid].index[0]\n",
    "            pubmed_idx= pubmed_nodoi[pubmed_nodoi['PubMedID']==pmid].index[0]\n",
    "\n",
    "#            print(df_idx,pubmed_idx)\n",
    "\n",
    "            ans_year= compare(int(df.loc[df_idx]['Year']), int(pubmed_nodoi.loc[pubmed_idx]['Year']))\n",
    "            # Compares venue\n",
    "            ans_venue= compare(df.loc[df_idx]['Journal'], pubmed_nodoi.loc[pubmed_idx]['Journal'])\n",
    "\n",
    "\n",
    "            df['Author']= df['Author'].astype(str)\n",
    "            ans_author= compare_names(df.loc[df_idx]['Author'], pubmed_nodoi.loc[pubmed_idx]['Author'])\n",
    "\n",
    "            print(pmid,ans_year,ans_venue,ans_author)\n",
    "\n",
    "            result.append([pmid,ans_year,ans_venue,ans_author])\n",
    "        \n",
    "    return result  "
   ]
  },
  {
   "cell_type": "code",
   "execution_count": null,
   "id": "46cc7b2d",
   "metadata": {},
   "outputs": [],
   "source": [
    "def update_DOI(pmids: list, replacing_df, original_df):\n",
    "    \"\"\"\n",
    "    It updates the DOI of a given DataFrame from (original_df) with DOI from (replacing_df)\n",
    "\n",
    "    'pmids': list of PubMedIDs to work with\n",
    "    'replacing_df': DataFrame that its DOI is replacing\n",
    "    'original_df': DataFrame that has no DOI - that will be replaced\n",
    "    \"\"\"\n",
    "\n",
    "    for pmid in pmids:\n",
    "        replacing_idx = replacing_df[replacing_df['PubMedID'] == pmid].index[0]\n",
    "        original_idx = original_df[original_df['PubMedID'] == pmid].index[0]\n",
    "\n",
    "        original_df.loc[original_idx, 'DOI'] = replacing_df.loc[replacing_idx, 'DOI']\n",
    "\n",
    "    print(f'The total results updated is {len(pmids)}')"
   ]
  },
  {
   "cell_type": "code",
   "execution_count": null,
   "id": "25057af9",
   "metadata": {},
   "outputs": [],
   "source": [
    "\"\"\"\n",
    "Filter PubMed items with NoDOI that have been resolved updated in the Unionlist\n",
    "\"\"\"\n",
    "filtered_pmid_in_stage1= len(pubmed_nodoi[pubmed_nodoi['PubMedID'].isin(unionlist['PubMedID'])])\n",
    "\n",
    "print(f'The total number of records in PubMed resolved in Stage 1 is len({filtered_pmid_in_stage1})')\n",
    "\n",
    "pubmed_nodoi2= pubmed_nodoi[~pubmed_nodoi['PubMedID'].isin(unionlist['PubMedID'])]\n",
    "\n",
    "print(f'The total number of records left unresolved, that need to be checked in WoK is {len(pubmed_nodoi2)}')"
   ]
  },
  {
   "cell_type": "code",
   "execution_count": null,
   "id": "b9e43546",
   "metadata": {},
   "outputs": [],
   "source": [
    "# convert  from  int64 to object to match with PubMedIDs of unionlist\n",
    "pubmed_nodoi['PubMedID']= pubmed_nodoi['PubMedID'].astype(str) "
   ]
  },
  {
   "cell_type": "code",
   "execution_count": null,
   "id": "2cac0616",
   "metadata": {},
   "outputs": [],
   "source": [
    "\"\"\"\n",
    "Search for DOIs of items in PubMed without DOI in Web of Knowledge( i.e. All Databases in Web of Science)\n",
    "using their PubMedID\n",
    "\"\"\"\n",
    "\n",
    "# put the PubMedIDs of PubMed items with no DOIs in batches - Search 20 items at a time for effective result\n",
    "\n",
    "pubmed_nodoi_pmids_batch= batch_pmids(pubmed_nodoi2['PubMedID'].tolist(), 20)\n",
    "\n",
    "all_result_from_wok=[]\n",
    "\n",
    "for  pmids_list in pubmed_nodoi_pmids_batch:\n",
    "    format_wos_pmid_input= format_pmid_wos(pmids_list)\n",
    "    result_from_wos= wos_get_retracted_pubs_via_PubMedID(format_wos_pmid_input)\n",
    "    \n",
    "    all_result_from_wok.extend(result_from_wos)\n",
    "    \n",
    "print(f'The total number records searched in WoS is {len(all_result_from_wok)}')"
   ]
  },
  {
   "cell_type": "code",
   "execution_count": null,
   "id": "be2e892a",
   "metadata": {},
   "outputs": [],
   "source": [
    "\"\"\"\n",
    "Filter records with DOI from the search of items from the WoK\n",
    ":output: wok_pubmed_nodoi\n",
    "\"\"\"\n",
    "\n",
    "all_result_from_wok\n",
    "wok_columns= ['DOI', 'PubMedID', 'Title','Year','Month','Author','Journal']\n",
    "\n",
    "wok_pubmed_nodoi_= pd.DataFrame(all_result_from_wok,columns=wok_columns)\n",
    "\n",
    "wok_pubmed_nodoi= wok_pubmed_nodoi_[wok_pubmed_nodoi_['DOI']!='']\n",
    "\n",
    "print(f'The total records with DOI from Web of Science is {len(wok_pubmed_nodoi)}')\n",
    "wok_pubmed_nodoi"
   ]
  },
  {
   "cell_type": "code",
   "execution_count": null,
   "id": "1710a930",
   "metadata": {},
   "outputs": [],
   "source": [
    "# Cleaning the Title\n",
    "wok_pubmed_nodoi.loc[:,'clean_title']= wok_pubmed_nodoi.loc[:,'Title'].str.lower().apply(clean_title)\n",
    "\n",
    "\"\"\"\n",
    "Cross Matching: Result from WOK (Web of Science - all databases) with the PubMed NoDOI\n",
    "\"\"\"\n",
    "pubmednodoi_in_wok_check= pd.DataFrame(validate_record_pubmed(wok_pubmed_nodoi,pubmed_nodoi2), columns=['pmid','year_check','venue_check','author_check'])\n",
    "pubmednodoi_in_wok_check"
   ]
  },
  {
   "cell_type": "markdown",
   "id": "cdc0c5f4",
   "metadata": {},
   "source": [
    "####  WoK Match: Manually examine the records of WoK result vs PubMed with no DOI"
   ]
  },
  {
   "cell_type": "code",
   "execution_count": null,
   "id": "631f0c01",
   "metadata": {},
   "outputs": [],
   "source": [
    "# Below is an example of a prior instance where WoK and PubMed no DOI matched. \n",
    "# In the current run, there were no matches.\n",
    "\n",
    "# Prior example\n",
    "pubmed_nodoi[pubmed_nodoi['PubMedID']=='11032235']"
   ]
  },
  {
   "cell_type": "code",
   "execution_count": null,
   "id": "3747b82d",
   "metadata": {},
   "outputs": [],
   "source": [
    "# Prior example\n",
    "wok_pubmed_nodoi[wok_pubmed_nodoi['PubMedID']== '11032235']"
   ]
  },
  {
   "cell_type": "code",
   "execution_count": null,
   "id": "e12ec32a",
   "metadata": {},
   "outputs": [],
   "source": [
    "# Prior example\n",
    "\"\"\"\n",
    "Result of manual inspection of PubMedIDs (WoK vs PubMed:):  \n",
    "3819650,7513776,7706332, 9057630, 17373355, 30074316 and 22059288\n",
    "\n",
    "Investigated PubMedIDs in PubMed_NoDOI search in Web of Knowledge (that returned DOI)\n",
    "\n",
    "PubMedID: 11032235 - having same title, venue*, authors (matched all through) - * one venue is in abbreviation\n",
    "PubMedID: 22059288 - matched all through\n",
    "\n",
    "Hence all DOIs: 11032235 and 22059288 will be cross-match Unionlist before \n",
    "updating in PubMed_NoDOI if no inconstitency is detected\n",
    "\n",
    "\"\"\"\n",
    "pass"
   ]
  },
  {
   "cell_type": "markdown",
   "id": "a0874c7d",
   "metadata": {},
   "source": [
    "####  WoK_Unionlist Match: Match PubMed_NoDOI PubMedID  that matches WoK, with Unionlist"
   ]
  },
  {
   "cell_type": "code",
   "execution_count": null,
   "id": "cfd5f9b5",
   "metadata": {},
   "outputs": [],
   "source": [
    "# Prior example\n",
    "\"\"\"\n",
    "Cross Matching 2 with Unionlist: Result from WOK (Web of Science - all databases) match the PubMed NoDOI. Now\n",
    "match if the DOI exist with Unionlist and, if yes, cross-match with the items of the Unionlist in order to avoid\n",
    "inconsistency in Unionlist\n",
    "\n",
    "I.e. compare matched_pubmednodoi_in_wok vs unionlist\n",
    "\"\"\"\n",
    "pass"
   ]
  },
  {
   "cell_type": "code",
   "execution_count": null,
   "id": "f0a8e0da",
   "metadata": {},
   "outputs": [],
   "source": [
    "def validate_withUnionlist(df_):\n",
    "    \"\"\"\n",
    "    It checks result from items from a given dataframe (df_) and compares with the Unionlist \n",
    "    \n",
    "    param df_: The dataframe that will be compare with the Unionlist\n",
    "    return: result of the comparison with the following columns:\n",
    "            DOI\tSource_PubMedID\tUlist_PubMedID\tpmid_check\tyear_check\tvenue_check\tauthor_check\n",
    "    \n",
    "    \"\"\"\n",
    "    import re\n",
    "    \n",
    "    result=[]\n",
    "    df= df_.copy()\n",
    "    \n",
    "    count=0\n",
    "\n",
    "\n",
    "    doi_list= df['DOI'].tolist()\n",
    "    unionlist_doi= unionlist['DOI'].tolist()\n",
    "    for doi in doi_list:\n",
    "#         print(count)\n",
    "#         print(doi)\n",
    "\n",
    "        if doi in unionlist_doi:\n",
    "            df_idx= df[df['DOI']==doi].index[0]\n",
    "            unionlist_doi_idx= unionlist[unionlist['DOI']==doi].index[0]\n",
    "\n",
    "            ans_year= compare(int(df.loc[df_idx]['Year']), int(unionlist.loc[unionlist_doi_idx]['Year']))\n",
    "            \n",
    "       \n",
    "\n",
    "            ans_venue= compare(df.loc[df_idx]['Journal'], unionlist.loc[unionlist_doi_idx]['Journal'])\n",
    "\n",
    "            ans_pmid = compare(int(df.loc[df_idx]['PubMedID']), int(unionlist.loc[unionlist_doi_idx]['PubMedID']))\n",
    "            \n",
    "            pmid=df.loc[df_idx]['PubMedID']\n",
    "            upmid= unionlist.loc[unionlist_doi_idx]['PubMedID']\n",
    "\n",
    "            df['Author']= df['Author'].astype(str)\n",
    "            ans_author= compare_names(str(df.loc[df_idx]['Author']), str(unionlist.loc[unionlist_doi_idx]['Author']))\n",
    "\n",
    "            result.append([doi, pmid,upmid,ans_pmid,ans_year,ans_venue,ans_author])\n",
    "            \n",
    "            DF_result= pd.DataFrame(result,columns=['DOI','Source_PubMedID','Ulist_PubMedID','pmid_check','year_check','venue_check','author_check'])\n",
    "\n",
    "            count+=1\n",
    "    return DF_result\n",
    "        \n",
    "        "
   ]
  },
  {
   "cell_type": "code",
   "execution_count": null,
   "id": "b04a7e35",
   "metadata": {},
   "outputs": [],
   "source": [
    "# Below is an example of a prior instance where WoK and PubMed no DOI matched.\n",
    "# In the current run, there were no matches between WoK and PubMed no DOI, meaning there are no matches with the Unionlist.\n",
    "# An UnboundedLocalError is returned when running this cell for this instance because there are no DOIs in the variable\n",
    "# doi_list, meaning the return variable DF_result is never actually created.\n",
    "\"\"\"\n",
    "Check DOIs in 'matched_pubmednodoi_in_wok' that violate the Unionlist\n",
    "\"\"\"\n",
    "    \n",
    "matched_pubmednodoi_in_wok= wok_pubmed_nodoi[wok_pubmed_nodoi['PubMedID'].isin(pubmednodoi_in_wok_check['pmid'])].copy()\n",
    "\n",
    "wok_Ulist_validate= validate_withUnionlist(matched_pubmednodoi_in_wok)\n",
    "wok_Ulist_validate\n",
    "\n"
   ]
  },
  {
   "cell_type": "code",
   "execution_count": null,
   "id": "37f978f2",
   "metadata": {},
   "outputs": [],
   "source": [
    "# Prior example\n",
    "\"\"\"\n",
    "Result of manual inspection of PubMedIDs of PubMed_NoDOIs that matched WoK , now compared with the Unionlist \n",
    "using DOI, PMID, Year, Venue, & Author\n",
    "\n",
    "'10.1177/03635465000280052101' : inconsistent\n",
    "'10.1177/03635465000280052101' ['28064536']: consistent\n",
    "\"\"\"\n",
    "pass"
   ]
  },
  {
   "cell_type": "code",
   "execution_count": null,
   "id": "8de3a894",
   "metadata": {},
   "outputs": [],
   "source": [
    "# Prior example\n",
    "\"\"\"\n",
    "Obtain the consistent PubMedID in PubMed_NoDOI\n",
    "\"\"\"\n",
    "consistent_DOIin_wok= set(matched_pubmednodoi_in_wok['DOI']) - set(wok_Ulist_validate['DOI'])\n",
    "\n",
    "\n",
    "consistent_PMIDinWokDOI = wok_pubmed_nodoi[wok_pubmed_nodoi['DOI'].isin(consistent_DOIin_wok)]['PubMedID']\n",
    "print(f\"The PubMedIDs that in WoK that their DOIs do not mismatch (violate) with the Unionlist are below:\\n{list(consistent_PMIDinWokDOI)} \")\n",
    "\n",
    "wok_pubmed_nodoi[wok_pubmed_nodoi['DOI'].isin(consistent_DOIin_wok)]"
   ]
  },
  {
   "cell_type": "code",
   "execution_count": null,
   "id": "5ad215a3",
   "metadata": {},
   "outputs": [],
   "source": [
    "# Prior example\n",
    "\"\"\"\n",
    "Updating DOI for PubMedIDs: ['22059288'] \n",
    "\"\"\"\n",
    "#pubmednodoi_in_wok['pmid'].to_list()\n",
    "\n",
    "update_DOI(consistent_PMIDinWokDOI, wok_pubmed_nodoi,pubmed_nodoi2)"
   ]
  },
  {
   "cell_type": "code",
   "execution_count": null,
   "id": "e42fd614",
   "metadata": {},
   "outputs": [],
   "source": [
    "# Prior example\n",
    "# Confirm DOIs for consistent_DOIin_wok are not in Unionlist\n",
    "unionlist[unionlist['DOI'].isin(consistent_DOIin_wok)]"
   ]
  },
  {
   "cell_type": "code",
   "execution_count": null,
   "id": "72c03b9d",
   "metadata": {},
   "outputs": [],
   "source": [
    "# Prior example\n",
    "# Confirm the update and save to file\n",
    "pubmed_nodoi2[pubmed_nodoi2['PubMedID'].isin(consistent_PMIDinWokDOI)]\\\n",
    "#     .to_csv(data_dir+'pubmed/consistent_pubmedid_foundedwithdoi_inWoK.csv')"
   ]
  },
  {
   "cell_type": "markdown",
   "id": "a9ffe4dd",
   "metadata": {},
   "source": [
    "## Stage3:  Search items' Title in PubMed (without DOI) in Scopus"
   ]
  },
  {
   "cell_type": "code",
   "execution_count": null,
   "id": "c8ef6422",
   "metadata": {},
   "outputs": [],
   "source": [
    "def get_scopus_metadata(publications:list)->list:\n",
    "    \"\"\"\n",
    "    It extracts data from the Scopus API results\n",
    "    \n",
    "    :params publications: are json file of publications - the result from the Scopus API search\n",
    "    :return: list of extracted metadata of publications\n",
    "    \"\"\"\n",
    "    results = []\n",
    "    for publication in publications:\n",
    "        title = publication.get('dc:title','')\n",
    "        eid = publication.get('eid','')\n",
    "        DOI = publication.get('prism:doi','')\n",
    "        publication_date = publication.get('prism:coverDate','')\n",
    "        # author = publication.get('dc:creator', [])\n",
    "        authors_raw = publication.get('author','')\n",
    "        authors= [\",\".join([author.get('authname') for author in authors_raw])]\n",
    "\n",
    "        affiliations= publication.get('affiliation','')\n",
    "        journal = publication.get('prism:publicationName',['']) \n",
    "        PubMedID = publication.get('pubmed-id','')\n",
    "        pub_type = publication.get('prism:aggregationType','')\n",
    "        pub_type2 = publication.get('subtypeDescription','')\n",
    "        \n",
    "        results.append([DOI, eid,title,publication_date,authors,affiliations,journal,PubMedID, pub_type, pub_type2])\n",
    "\n",
    "    return results\n"
   ]
  },
  {
   "cell_type": "code",
   "execution_count": null,
   "id": "06c4d127",
   "metadata": {},
   "outputs": [],
   "source": [
    "def scopus_record_via_title(title: str):\n",
    "        \n",
    "    \"\"\"\n",
    "    Gets the Scopus search results for a given query on retracted publications, using cursor - pagination approach.\n",
    "    It writes the result into a specified directory file.\n",
    "    Check API documentation: https://dev.elsevier.com/documentation/ScopusSearchAPI.wadl\n",
    "    \n",
    "    :param title: title of item to be searched in Scopus\n",
    "    :param filename: the directory filename to save the result of the search query, optional if desired\n",
    "    \"\"\"\n",
    "    \n",
    "\n",
    "    header = ['DOI', 'Eid','Title','Publication_date','Authors','Affiliations',\n",
    "          'Journal','PubMedID', 'Pub_type', 'Pub_type2']\n",
    "\n",
    "#     outfile = open(filename,\"a\",encoding = \"utf-8\", newline = \"\")\n",
    "    \n",
    "#     csvout = csv.writer(outfile)\n",
    "#     csvout.writerow(header)\n",
    "\n",
    "    global elsevier_api_key\n",
    "    global elsevier_insttoken\n",
    "\n",
    "    # Set the base URL for the Scopus API\n",
    "    base_url = \"https://api.elsevier.com/content/search/scopus\" \n",
    "\n",
    "    # Set your API key\n",
    "    api_key = elsevier_api_key\n",
    "    elsevier_insttoken = elsevier_insttoken\n",
    "\n",
    "    # Set the query parameters \n",
    "#     query = \"DOCTYPE(tb)\" #\"RETRACTED\"\n",
    "    query= f\"TITLE({title})\"\n",
    "\n",
    "\n",
    "    start = 0    # Starting index of the results (page)\n",
    "    total_counts =0\n",
    "    total = 0\n",
    "    \n",
    "    \n",
    "\n",
    "    # Set the request headers with the API key\n",
    "    headers = {\n",
    "        'X-ELS-APIKey': api_key,\n",
    "        'Accept': 'application/json',\n",
    "        'X-ELS-Insttoken':elsevier_insttoken\n",
    "    }\n",
    "\n",
    "\n",
    "    \n",
    "    #####\n",
    "    cursor = \"*\"\n",
    "    result_per_page =''\n",
    "    all_results = []\n",
    "\n",
    "    # While loop for pagination\n",
    "    while True:\n",
    "\n",
    "        response = requests.get(\n",
    "                base_url,\n",
    "                headers=headers,\n",
    "                params={\n",
    "                    'query': query,\n",
    "                    'start': start,\n",
    "#                     'date': date,    # in this format: 2000-2015\n",
    "                    'cursor': cursor,\n",
    "                    'view': 'COMPLETE',\n",
    "                                        })\n",
    "\n",
    "#         print(response.status_code)\n",
    "\n",
    "      # Check the status code of the response\n",
    "        if response.status_code == 200:\n",
    "            \n",
    "            result_per_page = response.json()\n",
    "            \n",
    "#             print(result_per_page)\n",
    "           \n",
    "\n",
    "            total = result_per_page['search-results']['opensearch:totalResults']\n",
    "            page_count = result_per_page['search-results']['opensearch:itemsPerPage'] #'25' str maximum items on a page \n",
    "            \n",
    "            publications = result_per_page['search-results']['entry']\n",
    "\n",
    "            results = get_scopus_metadata(publications)\n",
    "\n",
    "\n",
    "            #csvout.writerows(results) # write the result to file\n",
    "\n",
    "            total_counts += int(page_count)\n",
    "            cursor = result_per_page['search-results']['cursor']['@next'] #start += limit  # pagination: initializing page to the next page\n",
    "            \n",
    "            all_results.extend(results)\n",
    "            \n",
    "            \n",
    "            if total_counts >= int(total):\n",
    "                break\n",
    "        else:\n",
    "            break\n",
    "\n",
    "    #outfile.close() \n",
    "    \n",
    "    return all_results # You can also return the result "
   ]
  },
  {
   "cell_type": "code",
   "execution_count": null,
   "id": "f7ac9094",
   "metadata": {},
   "outputs": [],
   "source": [
    "\"\"\"\n",
    "Search titles of items PubMed_NoDOI in Scopus\n",
    "Filter records with DOI from the search of items from Scopus\n",
    ":output: all_result_from_scopus\n",
    "\"\"\"\n",
    "titles= pubmed_nodoi2['clean_title'].to_list()\n",
    "\n",
    "all_result_from_scopus= []\n",
    "for title in titles:\n",
    "    all_result_from_scopus.extend(scopus_record_via_title(title)) # Searching Scopus API\n",
    "    time.sleep(.005)\n",
    "# This can take a number of minutes to process."
   ]
  },
  {
   "cell_type": "code",
   "execution_count": null,
   "id": "83437757",
   "metadata": {
    "scrolled": true
   },
   "outputs": [],
   "source": [
    "len(all_result_from_scopus)"
   ]
  },
  {
   "cell_type": "code",
   "execution_count": null,
   "id": "ae2bf5fe",
   "metadata": {},
   "outputs": [],
   "source": [
    "# Check for any instances where DOI does not exist and PMID exists in Pubmed_NoDOI\n",
    "pubmed_nodoi2[(pubmed_nodoi2['DOI'].isna())&(~pubmed_nodoi2['PubMedID'].isna())]"
   ]
  },
  {
   "cell_type": "code",
   "execution_count": null,
   "id": "a5584a5f",
   "metadata": {},
   "outputs": [],
   "source": [
    "# Fetching PubMedIDs of Pubmed_Nodoi \n",
    "\n",
    "pubmed_nodoi_pmids2=  pubmed_nodoi2[pubmed_nodoi2['DOI']=='']['PubMedID']\n",
    "\n",
    "pubmed_nodoi_pmids2\n",
    "print(f'The total number of records left unresolved after Stage 2, that need to be checked in Scopus is {len(pubmed_nodoi_pmids2)}')"
   ]
  },
  {
   "cell_type": "code",
   "execution_count": null,
   "id": "72e380e0",
   "metadata": {},
   "outputs": [],
   "source": [
    "# Return so that full column is not shown.\n",
    "pd.set_option('display.max_colwidth', 50)"
   ]
  },
  {
   "cell_type": "code",
   "execution_count": null,
   "id": "b0b4a65a",
   "metadata": {
    "scrolled": true
   },
   "outputs": [],
   "source": [
    "\"\"\"\n",
    "Looking up for the PubMedIDs from 'all_result_from_scopus' Scopus that match PubMedIDs in the PubMed NoDOI \n",
    "\n",
    "output: scopus_pubmed_nodoi\n",
    "\"\"\"\n",
    "\n",
    "scopus_header = ['DOI', 'Eid','Title','Publication_date','Author','Affiliations',\n",
    "          'Journal','PubMedID', 'Pub_type', 'Pub_type2']\n",
    "\n",
    "scopus_pubmed_nodoi_temp= pd.DataFrame(all_result_from_scopus,columns=scopus_header)\n",
    "\n",
    "scopus_pubmed_nodoi_temp['DOI']= scopus_pubmed_nodoi_temp['DOI'].fillna('')\n",
    "\n",
    "\n",
    "# Extract Year\n",
    "scopus_pubmed_nodoi_temp['Publication_date'] = pd.to_datetime(scopus_pubmed_nodoi_temp['Publication_date'])\n",
    "scopus_pubmed_nodoi_temp['Year'] = scopus_pubmed_nodoi_temp['Publication_date'].dt.year\n",
    "\n",
    "\n",
    "scopus_pubmed_nodoi_temp['Year']= scopus_pubmed_nodoi_temp['Year'].fillna(0)\n",
    "scopus_pubmed_nodoi_temp['Year']= scopus_pubmed_nodoi_temp['Year'].astype(int)\n",
    "\n",
    "scopus_pubmed_nodoi_temp= scopus_pubmed_nodoi_temp[scopus_pubmed_nodoi_temp['DOI']!='']\n",
    "\n",
    "scopus_pubmed_nodoi_temp\n",
    "\n",
    "scopus_pubmed_nodoi= scopus_pubmed_nodoi_temp[scopus_pubmed_nodoi_temp['PubMedID'].isin(pubmed_nodoi_pmids2)]\n",
    "scopus_pubmed_nodoi"
   ]
  },
  {
   "cell_type": "code",
   "execution_count": null,
   "id": "f15a0fa4",
   "metadata": {},
   "outputs": [],
   "source": [
    "\"\"\"\n",
    "Cross Matching: Result from Scopus with the PubMed NoDOI\n",
    "Using Author,Venue, Year of publication verification for the matched PubMedIDs i.e. scopus_pubmed_nodoi\n",
    "\"\"\"\n",
    "pubmednodoi_in_scopus_check= pd.DataFrame(validate_record_pubmed(scopus_pubmed_nodoi, pubmed_nodoi2), columns=['pmid','year_check','venue_check','author_check'])\n",
    "pubmednodoi_in_scopus_check"
   ]
  },
  {
   "cell_type": "markdown",
   "id": "ec472f64",
   "metadata": {},
   "source": [
    "####  Scopus Match: Manually examine the records of Scopus result vs PubMed with no PubMedID"
   ]
  },
  {
   "cell_type": "code",
   "execution_count": null,
   "id": "2c62442e",
   "metadata": {},
   "outputs": [],
   "source": [
    "# Return columns to view all information.\n",
    "pd.set_option('display.max_colwidth', None)"
   ]
  },
  {
   "cell_type": "code",
   "execution_count": null,
   "id": "a5c67540",
   "metadata": {},
   "outputs": [],
   "source": [
    "pubmed_nodoi2[pubmed_nodoi2['PubMedID']=='28925478']"
   ]
  },
  {
   "cell_type": "code",
   "execution_count": null,
   "id": "0ace250b",
   "metadata": {},
   "outputs": [],
   "source": [
    "scopus_pubmed_nodoi[scopus_pubmed_nodoi['PubMedID']=='28925478']"
   ]
  },
  {
   "cell_type": "code",
   "execution_count": null,
   "id": "c1e3ce6c",
   "metadata": {},
   "outputs": [],
   "source": [
    "# Check PubMedIDs in Pubmed_Nodoi that matched from Scopus result\n",
    "pubmed_nodoi2[pubmed_nodoi2['PubMedID'].isin(scopus_pubmed_nodoi['PubMedID'])]"
   ]
  },
  {
   "cell_type": "code",
   "execution_count": null,
   "id": "8fe17959",
   "metadata": {},
   "outputs": [],
   "source": [
    "\"\"\"\n",
    "Result of manual inspection:\n",
    "\n",
    "PMID 2480486: all tallies\n",
    "PMID 7595293: all tallies\n",
    "PMID 1551544: all tallies\n",
    "PMID 1669382: all tallies, venue false because of '&' and 'and' difference\n",
    "PMID 2025077: all tallies\n",
    "PMID 19395854: all tallies, venue false because PubMed included location in venue (i.e. Cell cycle (Georgetown, Tex.)) and Scopus did not (i.e. Cell Cycle).\n",
    "PMID 17086017: all tallies\n",
    "PMID 16898225: all tallies\n",
    "PMID 11978302: all tallies, authors do not match because PubMed has unknown and Scopus has a committee name (i.e. 'Committee on Practice Bulletins-Gynecology')\n",
    "PMID 32338687: all tallies\n",
    "PMID 28925478: all tallies\n",
    "\n",
    "All the result tallied.\n",
    "\n",
    "Hence all DOIs  will be cross-matched against Unionlist before updating in PubMed_NoDOI if no inconstitency is detected\n",
    "\n",
    "\"\"\"\n",
    "pass"
   ]
  },
  {
   "cell_type": "markdown",
   "id": "4134a811",
   "metadata": {},
   "source": [
    "####  Scopus_Unionlist Match: Match PubMed_NoDOI PubMedID  that matches Scopus, with Unionlist"
   ]
  },
  {
   "cell_type": "code",
   "execution_count": null,
   "id": "a315f62c",
   "metadata": {},
   "outputs": [],
   "source": [
    "# Return so that full column is not shown.\n",
    "pd.set_option('display.max_colwidth', 50)"
   ]
  },
  {
   "cell_type": "code",
   "execution_count": null,
   "id": "0a82ed33",
   "metadata": {},
   "outputs": [],
   "source": [
    "\"\"\"\n",
    "Cross Matching 2 with Unionlist: Result from Scopus match the PubMed NoDOI. Now\n",
    "match if the DOI exist with Unionlist and, if yes, cross-match with the items of the Unionlist in order to avoid\n",
    "inconsistency in Unionlist\n",
    "\n",
    "I.e compare matched_pubmednodoi_in_scopus vs. unionlist\n",
    "\"\"\"\n",
    "pass"
   ]
  },
  {
   "cell_type": "code",
   "execution_count": null,
   "id": "04462234",
   "metadata": {},
   "outputs": [],
   "source": [
    "\"\"\"\n",
    "Check DOIs in 'matched_pubmednodoi_in_wok' that violate the Unionlist\n",
    "\"\"\"\n",
    "    \n",
    "matched_pubmednodoi_in_scopus= scopus_pubmed_nodoi[scopus_pubmed_nodoi['PubMedID'].isin(pubmednodoi_in_scopus_check['pmid'])].copy()\n",
    "# matched_pubmednodoi_in_scopus\n",
    "\n",
    "scopus_Ulist_validate= validate_withUnionlist(matched_pubmednodoi_in_scopus)\n",
    "scopus_Ulist_validate"
   ]
  },
  {
   "cell_type": "code",
   "execution_count": null,
   "id": "dd56d7be",
   "metadata": {},
   "outputs": [],
   "source": [
    "\"\"\"\n",
    "Obtain the consistent PubMedID in PubMed_NoDOI\n",
    "\"\"\"\n",
    "consistent_DOIin_scopus= set(matched_pubmednodoi_in_scopus['DOI']) - set(scopus_Ulist_validate['DOI'])\n",
    "\n",
    "\n",
    "consistent_PMIDinScopusDOI = scopus_pubmed_nodoi[scopus_pubmed_nodoi['DOI'].isin(consistent_DOIin_scopus)]['PubMedID']\n",
    "print(f\"The PubMedIDs in Scopus whose DOIs do not mismatch (violate) with the Unionlist are below:\\n{list(consistent_PMIDinScopusDOI)} \")\n",
    "\n",
    "scopus_pubmed_nodoi[scopus_pubmed_nodoi['DOI'].isin(consistent_DOIin_scopus)]"
   ]
  },
  {
   "cell_type": "code",
   "execution_count": null,
   "id": "5c772a0d",
   "metadata": {},
   "outputs": [],
   "source": [
    "# Confirm DOIs for consistent_DOIin_scopus are not in Unionlist\n",
    "unionlist[unionlist['DOI'].isin(consistent_DOIin_scopus)]"
   ]
  },
  {
   "cell_type": "code",
   "execution_count": null,
   "id": "1ce1e5ec",
   "metadata": {},
   "outputs": [],
   "source": [
    "\"\"\"\n",
    "Updating PubMedID of PubMed_NoDOI that their DOIs in Scopus are in Consistent DOI in the Unionlist: \n",
    "['2480486', '7595293', '1551544', '1669382', '19395854', '11978302', '32338687', '28925478'] \n",
    "\"\"\"\n",
    "\n",
    "update_DOI(consistent_PMIDinScopusDOI , scopus_pubmed_nodoi,pubmed_nodoi2)"
   ]
  },
  {
   "cell_type": "code",
   "execution_count": null,
   "id": "f84b83a7",
   "metadata": {
    "scrolled": true
   },
   "outputs": [],
   "source": [
    "# Confirm the DOI update\n",
    "pubmed_nodoi2[pubmed_nodoi2['PubMedID'].isin(consistent_PMIDinScopusDOI)]\\\n",
    "#                    .to_csv(data_dir+'pubmed/consistent_pubmedid_foundedwithdoi_inScopus.csv')"
   ]
  },
  {
   "cell_type": "markdown",
   "id": "6e2c798e",
   "metadata": {},
   "source": [
    "## Stage4:  Update the DOI of Items that are left with no DOI"
   ]
  },
  {
   "cell_type": "code",
   "execution_count": null,
   "id": "9d209458",
   "metadata": {
    "scrolled": true
   },
   "outputs": [],
   "source": [
    "pubmed_nodoi2[(pubmed_nodoi2['DOI']!='')]"
   ]
  },
  {
   "cell_type": "code",
   "execution_count": null,
   "id": "89639d5a",
   "metadata": {},
   "outputs": [],
   "source": [
    "\"\"\"\n",
    "Update records with no DOI with DOI format {noDOI_#}\n",
    "\"\"\"\n",
    "\n",
    "total_updated= pubmed_nodoi2[(pubmed_nodoi2['DOI']!='')]\n",
    "total_left_updated= pubmed_nodoi2[~(pubmed_nodoi2['DOI']!='')]\n",
    "\n",
    "print(f'The total DOIs updated is {len(total_updated)}')\n",
    "print(f'The total DOIs left is {len(total_left_updated)}')\n",
    "\n",
    "for (idx, row) in enumerate(total_left_updated.iterrows()):\n",
    "    indexed_loc=row[0]\n",
    "    label = f'noDOI_{idx}'\n",
    "    #print(label)\n",
    "    pubmed_nodoi2.loc[indexed_loc, 'DOI']=label\n",
    "    \n",
    "#     print(f'noDOI_{i}') "
   ]
  },
  {
   "cell_type": "code",
   "execution_count": null,
   "id": "03d95c38",
   "metadata": {},
   "outputs": [],
   "source": [
    "total_updated_after_assignment= pubmed_nodoi2[(pubmed_nodoi2['DOI']!='')]\n",
    "total_left_updated_after_assignment = pubmed_nodoi2[~(pubmed_nodoi2['DOI']!='')]\n",
    "print(f'The total DOIs updated is {len(total_updated_after_assignment)}')\n",
    "print(f'The total DOIs left is {len(total_left_updated_after_assignment)}')"
   ]
  },
  {
   "cell_type": "code",
   "execution_count": null,
   "id": "8d326bb8",
   "metadata": {},
   "outputs": [],
   "source": [
    "# Save the All records update for PubMed_NoDOI\n",
    "# pubmed_nodoi2.to_csv(data_dir+'pubmed/pubmed_nodoi_resolved.csv')"
   ]
  },
  {
   "cell_type": "markdown",
   "id": "aa7392a5",
   "metadata": {},
   "source": [
    "### Update Unionlist: Combined the Unionlist and the Updated PubMed NoDOI list"
   ]
  },
  {
   "cell_type": "code",
   "execution_count": null,
   "id": "589f46a6",
   "metadata": {},
   "outputs": [],
   "source": [
    "# Getting columns in the Unionlist\n",
    "selected_columns= unionlist.columns\n",
    "\n",
    "#copying pubmed_nodoi2 to pubmed2\n",
    "pubmed2= pubmed_nodoi2.copy(deep=True)\n",
    "\n",
    "# Renaming columns of PubMed_NoDOI to match Unionlist\n",
    "pubmed2.rename(\n",
    "    columns={'doi':'DOI',\n",
    "            'au_names':'Author',\n",
    "            'title':'Title',\n",
    "            'journal_title':'Journal',\n",
    "            'year':'Year',\n",
    "            'pmid': 'PubMedID',\n",
    "            'retraction_notice_pmid':'RetractionPubMedID',\n",
    "            'rn_doi':'RetractionDOI',\n",
    "            'retracted_year':'RetractionDate'}, inplace=True)\n",
    "\n",
    "pubmed2= pubmed2[selected_columns]"
   ]
  },
  {
   "cell_type": "code",
   "execution_count": null,
   "id": "efdf2ed4",
   "metadata": {},
   "outputs": [],
   "source": [
    "unionlist_updated= pd.concat([unionlist,pubmed2]).drop(['clean_title'],axis=1)\n",
    "\n",
    "# Update all the DOI to lowercase\n",
    "unionlist_updated['DOI']= unionlist_updated['DOI'].str.lower()\n",
    "\n",
    "# Save updated unionlist to File\n",
    "# unionlist_updated.to_csv(data_dir+f\"unionlist/unionlist_with_nodoi_{getdate['unionlist']}.csv\")\n",
    "unionlist_updated"
   ]
  },
  {
   "cell_type": "code",
   "execution_count": null,
   "id": "15cf2ad1",
   "metadata": {},
   "outputs": [],
   "source": [
    "# unionlist_updated= pd.read_csv(data_dir+f\"unionlist/unionlist_with_nodoi_{getdate['unionlist']}.csv\").drop(['Unnamed: 0'],axis=1)"
   ]
  },
  {
   "cell_type": "code",
   "execution_count": null,
   "id": "e0bdb010",
   "metadata": {},
   "outputs": [],
   "source": [
    "# Confirming no duplicate\n",
    "unionlist_updated[unionlist_updated['DOI'].duplicated('Keep'==False)]"
   ]
  },
  {
   "cell_type": "code",
   "execution_count": null,
   "id": "784acf22",
   "metadata": {},
   "outputs": [],
   "source": [
    "total_uniqueDOI= unionlist_updated[unionlist_updated['DOI'].str.startswith('10')].count()[0]\n",
    "total_uniquePMID= unionlist_updated['PubMedID'].nunique() #.str.startswith('10')].count()[0]\n",
    "\n",
    "print(f'The total items\\' unique DOIs is {total_uniqueDOI} and unique PMIDs is {total_uniquePMID}' )"
   ]
  },
  {
   "cell_type": "code",
   "execution_count": null,
   "id": "e8793ad2",
   "metadata": {},
   "outputs": [],
   "source": [
    "def count_DOI_n_PubMedID(df, source)-> list:\n",
    "    \"\"\"\n",
    "    :param df: DataFrame to work on\n",
    "    :param source: source to lookup to determine number of count\n",
    "    \n",
    "    :return: source, # DOI, # PubMedID, # Duplicated record -> list\n",
    "    \n",
    "    \"\"\"\n",
    "    \n",
    "    \n",
    "    df_DOI= df[(df['DOI'].str.startswith('10')) & (df['source'].str.contains(source))]\n",
    "    \n",
    "    df_nodupDOI= df_DOI.drop_duplicates(subset=['DOI'], keep='first') # DF that has no duplicated DOI\n",
    "    \n",
    "    df_duplicatedDOI= df_DOI[df_DOI.duplicated(subset=['DOI'],keep='last')] # DF that are duplicated\n",
    "    \n",
    "    \n",
    "    df_noDOI= df[~(df['DOI'].str.startswith('10')) & (df['source'].str.contains(source))] # DF that has no DOI\n",
    "    \n",
    "    \n",
    "    nDOI= len(df_nodupDOI) # Numbers of items with unique DOI\n",
    "    nDuplicatedDOI= len(df_duplicatedDOI) # Numbers of items that has duplicated DOI removed\n",
    "    nNoDOI= len(df_noDOI) # Numbers of items with without DOI\n",
    "    \n",
    "    Total= len(df_DOI)\n",
    "    \n",
    "    \n",
    "    \n",
    "    if 'PubMedID' in df.columns:\n",
    "        \n",
    "        df_PMID=  df_DOI[((df_DOI['PubMedID'] != \"\") | ~df_DOI['PubMedID'].isna()) & (df_DOI['source'].str.contains(source))]\n",
    "        \n",
    "        df_nodupPMID= df_PMID.drop_duplicates(subset=['PubMedID'], keep='first') # DF that has no duplicated PMID\n",
    "        \n",
    "        df_duplicatedPMID= df_PMID[df_PMID.duplicated(subset=['PubMedID'],keep='last')] # DF that are duplicated\n",
    "        \n",
    "        df_noPMID= df_DOI[~(((df_DOI['PubMedID'] != \"\") | ~df_DOI['PubMedID'].isna()) & (df_DOI['source'].str.contains(source)))]\n",
    "        \n",
    "        \n",
    "        nPMID= len(df_nodupPMID) # Numbers of items with unique PMID\n",
    "        nDuplicatedPMID= len(df_duplicatedPMID)  # Numbers of items that has duplicated PMID\n",
    "        nNoPMID= len(df_noPMID)  # Numbers of items without PMID\n",
    "        \n",
    "        \n",
    "        \n",
    "    else:\n",
    "        nPMID,nDuplicatedPMID,nNoPMID= 0,0,0\n",
    "        \n",
    "        \n",
    "    if source == 'PubMed':\n",
    "        nPMID,nDuplicatedPMID,nNoPMID= 0,0,0\n",
    "        \n",
    "        df_PMID= df[((df['PubMedID'] != \"\") | ~df['PubMedID'].isna()) & (df['source'].str.contains(source))]\n",
    "        df_nodupPMID= df_PMID.drop_duplicates(subset=['PubMedID'], keep='first')\n",
    "        df_duplicatedPMID= df_PMID[df_PMID.duplicated(subset=['PubMedID'],keep='last')] # DF that are duplicated\n",
    "#         df_noPMID= df[~(((df['PubMedID'] != \"\") | ~df['PubMedID'].isna()) & (df['source'].str.contains(source)))]\n",
    "        \n",
    "        nPMID= len(df_nodupPMID) # Numbers of items with unique PMID\n",
    "        nDuplicatedPMID= len(df_duplicatedPMID)  # Numbers of items that has duplicated PMID\n",
    "        \n",
    "#         nNoPMID= len(df_noPMID)  # Numbers of items with without PMID\n",
    "#         print(source, nPMID)\n",
    "       \n",
    "        Total= len(df_PMID)\n",
    "        \n",
    "    \n",
    "        \n",
    "    return  source,Total, nDOI,nNoDOI,nDuplicatedDOI,nPMID,nNoPMID,nDuplicatedPMID"
   ]
  },
  {
   "cell_type": "code",
   "execution_count": null,
   "id": "b559b161",
   "metadata": {},
   "outputs": [],
   "source": [
    "# Recall DOI updated in Stage 1 to Stage 3\n",
    "\n",
    "print(\"Total DOI updated in stage 2:\", 0) #len(consistent_PMIDinWokDOI) )\n",
    "\n",
    "print(\"Total DOI updated in stage 3:\", len(consistent_PMIDinScopusDOI) )\n",
    "\n",
    "print(\"Total DOI updated in stage 1:\")\n",
    "overview2"
   ]
  },
  {
   "cell_type": "code",
   "execution_count": null,
   "id": "789581c6",
   "metadata": {},
   "outputs": [],
   "source": [
    "\"\"\"\n",
    "Calculating number of DOIs/PubMedID in Unionlist per source\n",
    "\"\"\"\n",
    "\n",
    "nBCI= count_DOI_n_PubMedID(unionlist_updated,'BCI')\n",
    "nBIOADS= count_DOI_n_PubMedID(unionlist_updated,'BIOABS')\n",
    "nCCC= count_DOI_n_PubMedID(unionlist_updated,'CCC')\n",
    "nCompendex= count_DOI_n_PubMedID(unionlist_updated,'Compendex')\n",
    "nCrossref= count_DOI_n_PubMedID(unionlist_updated,'Crossref')\n",
    "nGeobase= count_DOI_n_PubMedID(unionlist_updated,'GEOBASE')\n",
    "nMedline= count_DOI_n_PubMedID(unionlist_updated,'Medline')\n",
    "nPubMed=count_DOI_n_PubMedID(unionlist_updated,'PubMed')\n",
    "nRW= count_DOI_n_PubMedID(unionlist_updated,'Retraction Watch')\n",
    "nScopus= count_DOI_n_PubMedID(unionlist_updated,'Scopus')\n",
    "nWoS=count_DOI_n_PubMedID(unionlist_updated,'WoS_Core')"
   ]
  },
  {
   "cell_type": "code",
   "execution_count": null,
   "id": "b926a860",
   "metadata": {},
   "outputs": [],
   "source": [
    "#source,Total, nDOI,nNoDOI,nDuplicatedDOI,nPMID,nNoPMID,nDuplicatedPMID\n",
    "nScopus"
   ]
  },
  {
   "cell_type": "code",
   "execution_count": null,
   "id": "4b4cd0a9",
   "metadata": {},
   "outputs": [],
   "source": [
    "#source,Total, nDOI,nNoDOI,nDuplicatedDOI,nPMID,nNoPMID,nDuplicatedPMID\n",
    "nPubMed"
   ]
  },
  {
   "cell_type": "code",
   "execution_count": null,
   "id": "42ea372d",
   "metadata": {},
   "outputs": [],
   "source": [
    "\"\"\"\n",
    "Get previous overview before DOI resolution in Step 1  Notebook\n",
    "\"\"\"\n",
    "overview = pd.read_csv(result_dir+'datasources_overview.csv').drop(['Unnamed: 0'],axis=1)\n",
    "\n",
    "overview['Records_withDOI']= overview['Records_withDOI'].astype(int)\n",
    "\n",
    "overview"
   ]
  },
  {
   "cell_type": "code",
   "execution_count": null,
   "id": "a3af8bce",
   "metadata": {},
   "outputs": [],
   "source": [
    "initialDOIs = [10267, 10144, 3471, 19266, 30918, 1039, 21737, 22058, 45419, 30878, 31683]\n",
    "overview.info()"
   ]
  },
  {
   "cell_type": "code",
   "execution_count": null,
   "id": "d47c9b3b",
   "metadata": {},
   "outputs": [],
   "source": [
    "\"\"\"\n",
    "Aggregate the items from all the sources\n",
    "\"\"\"\n",
    "dbtable = [] # A nested list which stores the records of each group in each source\n",
    "ovtable = [] # Store the count of each group from each source and create a table for viewing\n",
    "\n",
    "dblist= [nBCI, nBIOADS, nCCC, nCompendex, nCrossref,nGeobase, nMedline, nPubMed, nRW, nScopus, nWoS]\n",
    "\n",
    "#Query results retrieved\tRecords with DOI\tRecords without DOI removed\tDuplicate records removed\n",
    "# source,Total, nDOI,nNoDOI,nDuplicatedDOI,nPMID,nNoPMID,nDuplicatedPMID\n",
    "for result in dblist:\n",
    "    dbtable.append(result)\n",
    "    \n",
    "    np_results= np.array(dbtable)\n",
    "    \n",
    "# Create a table showing the count of each group\n",
    "overview3 = pd.DataFrame(np_results[:,[1,2,5]])\n",
    "\n",
    "overview3.columns =[\"Total_records_DOI_PubMedID\",\"Updated_total_records_withDOI_in_Unionlist\", 'Records_withPubMedID_in_Unionlist',] #'DuplicatePubMedID_in_Unionlist'\n",
    "\n",
    "\n",
    "overview3[\"Initial_records_withDOI\"]= overview['Records_withDOI']\n",
    "\n",
    "overview3['Source']= ['BCI', 'BIOABS','CCC','Compendex','Crossref', 'GEOBASE', 'Medline', 'PubMed','Retraction Watch','Scopus','Web of Science Core']\n",
    "\n",
    "\n",
    "overview3['Updated_total_records_withDOI_in_Unionlist'] = overview3['Updated_total_records_withDOI_in_Unionlist'].astype(int)\n",
    "\n",
    "# Copy row of record of number DOI updated using PubMedID\n",
    "overview3['Records_updated_withDOI_in_Unionlist']= overview3['Updated_total_records_withDOI_in_Unionlist'] - overview['Records_withDOI']\n",
    "\n",
    "overview3['Records_updated_withDOI_in_Unionlist']= overview3['Records_updated_withDOI_in_Unionlist'].astype(int)\n",
    "\n",
    "# Re-order column\n",
    "overview3 = overview3[['Source',\"Total_records_DOI_PubMedID\",\"Initial_records_withDOI\",'Records_updated_withDOI_in_Unionlist',\"Updated_total_records_withDOI_in_Unionlist\", 'Records_withPubMedID_in_Unionlist',]] #'DuplicatePubMedID_in_Unionlist'\n",
    "\n",
    "\n",
    "overview3"
   ]
  },
  {
   "cell_type": "code",
   "execution_count": null,
   "id": "7e6ab58b",
   "metadata": {},
   "outputs": [],
   "source": [
    "# Aggregating items in each column\n",
    "\n",
    "overview3.loc[len(overview3)] = ['Total',\n",
    "                                 overview3.Total_records_DOI_PubMedID.astype(int).sum(),\n",
    "                                 overview3.Initial_records_withDOI.sum(),\n",
    "                                 overview3.Records_updated_withDOI_in_Unionlist.sum(),\n",
    "                                 overview3.Updated_total_records_withDOI_in_Unionlist.astype(int).sum(),\n",
    "                                 overview3.Records_withPubMedID_in_Unionlist.astype(int).sum(),]\n",
    "\n",
    "overview3\n"
   ]
  },
  {
   "cell_type": "code",
   "execution_count": null,
   "id": "5f06df94",
   "metadata": {
    "scrolled": true
   },
   "outputs": [],
   "source": [
    "overview3.info()"
   ]
  },
  {
   "cell_type": "code",
   "execution_count": null,
   "id": "853259ed",
   "metadata": {},
   "outputs": [],
   "source": [
    "# Saving updated overview to file\n",
    "# overview3.to_csv(result_dir+'datasources_updated_overview.csv')"
   ]
  },
  {
   "cell_type": "code",
   "execution_count": null,
   "id": "4df4ea8b",
   "metadata": {},
   "outputs": [],
   "source": [
    "\"\"\"\n",
    "Note  that \"Records_updated_withDOI_in_Unionlist\" does not reflect the true DOIs updated for each source \n",
    "because of update at each source - updated record may overlap in other sources\n",
    "\"\"\"\n",
    "pass"
   ]
  },
  {
   "cell_type": "markdown",
   "id": "7122a619",
   "metadata": {},
   "source": [
    "### Investigate Duplicated PubMedIDs"
   ]
  },
  {
   "cell_type": "code",
   "execution_count": null,
   "id": "360e339d",
   "metadata": {},
   "outputs": [],
   "source": [
    "\"\"\"\n",
    "Viewing items with duplicated PubMedIDs in the Updated Unionlist for manual analysis, could use for \n",
    "investigating irregularities in PubMedID indexing.\n",
    "\"\"\"\n",
    "is_not_null = unionlist_updated[unionlist_updated['PubMedID'] != '']\n",
    "filtered_data = is_not_null[is_not_null.duplicated(subset=['PubMedID'], keep=False)].reset_index(drop=True)\n",
    "\n",
    "# filtered_data.to_csv(data_dir+f\"unionlist/unionlist_duplicated_pmids_{getdate['unionlist']}.csv\")\n",
    "\n",
    "filtered_data\n",
    "\n",
    "\n"
   ]
  },
  {
   "cell_type": "code",
   "execution_count": null,
   "id": "9768490c",
   "metadata": {},
   "outputs": [],
   "source": [
    "unionlist[unionlist['DOI'].duplicated('keep'==False)]"
   ]
  },
  {
   "cell_type": "code",
   "execution_count": null,
   "id": "2b5e9496",
   "metadata": {},
   "outputs": [],
   "source": [
    "pubmed_nodoi[pubmed_nodoi['PubMedID'].duplicated('keep'==False)]"
   ]
  },
  {
   "cell_type": "code",
   "execution_count": null,
   "id": "ea20947c",
   "metadata": {},
   "outputs": [],
   "source": [
    "pubmed_nodoi2[pubmed_nodoi2['DOI'].str.startswith('10')]"
   ]
  },
  {
   "cell_type": "code",
   "execution_count": null,
   "id": "17f2a907",
   "metadata": {},
   "outputs": [],
   "source": []
  }
 ],
 "metadata": {
  "kernelspec": {
   "display_name": "Python 3 (ipykernel)",
   "language": "python",
   "name": "python3"
  },
  "language_info": {
   "codemirror_mode": {
    "name": "ipython",
    "version": 3
   },
   "file_extension": ".py",
   "mimetype": "text/x-python",
   "name": "python",
   "nbconvert_exporter": "python",
   "pygments_lexer": "ipython3",
   "version": "3.9.12"
  }
 },
 "nbformat": 4,
 "nbformat_minor": 5
}
