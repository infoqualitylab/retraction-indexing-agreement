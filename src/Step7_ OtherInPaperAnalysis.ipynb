{
 "cells": [
  {
   "cell_type": "markdown",
   "id": "32d1d90d",
   "metadata": {},
   "source": [
    "# Step 7: Other In-paper Analysis\n",
    "It computes the Retraction Indexing Agreement Scores and other analysis\n",
    "\n",
    "Input File: \n",
    "   - Retracted publications Union list with RIA score (from Step 6)\n",
    "       - unionlist_completed_ria{date}.csv\n",
    "   - STI2023 Union list\n",
    "       - 2023-09-03_journalcategory_knownretractionlist_updated.csv\n",
    "  \n",
    "###### Uncomment the line of code below to save analysis results to your local directory:\n",
    "       - (i)  \"....to_csv(..)\" \n",
    "       - (ii) \"plt.savefig(...)\" "
   ]
  },
  {
   "cell_type": "code",
   "execution_count": null,
   "id": "91ac386e",
   "metadata": {},
   "outputs": [],
   "source": [
    "import os\n",
    "from collections import Counter\n",
    "import seaborn as sns\n",
    "import pandas as pd\n",
    "import dataframe_image as dfi\n",
    "import numpy as np\n",
    "import matplotlib.pyplot as plt\n",
    "import matplotlib.patches as mpatches\n",
    "\n",
    "from datetime import date, datetime as dt\n",
    "import time,datetime\n",
    "import re\n",
    "import unicodedata\n",
    "import ast  # Module to handle literal_eval function"
   ]
  },
  {
   "cell_type": "code",
   "execution_count": null,
   "id": "d511d24b",
   "metadata": {},
   "outputs": [],
   "source": [
    "from upsetplot import generate_counts\n",
    "from upsetplot import plot\n",
    "from upsetplot import from_memberships\n",
    "from upsetplot import UpSet\n",
    "from matplotlib import pyplot\n",
    "from itertools import combinations"
   ]
  },
  {
   "cell_type": "code",
   "execution_count": null,
   "id": "648eac9c",
   "metadata": {},
   "outputs": [],
   "source": [
    "from mpl_toolkits.axes_grid1.inset_locator import zoomed_inset_axes\n",
    "from mpl_toolkits.axes_grid1.inset_locator import mark_inset\n",
    "from matplotlib.ticker import MaxNLocator\n",
    "\n",
    "%matplotlib notebook"
   ]
  },
  {
   "cell_type": "code",
   "execution_count": null,
   "id": "4192d694",
   "metadata": {},
   "outputs": [],
   "source": [
    "#!pip install dfstyle"
   ]
  },
  {
   "cell_type": "code",
   "execution_count": null,
   "id": "73568ad7",
   "metadata": {},
   "outputs": [],
   "source": [
    "\"\"\"\n",
    "Set up & defining file directories: Targeting the retraction_index_path\n",
    "\"\"\"\n",
    "retraction_index_path = os.path.abspath('./.')\n",
    "\n",
    "\n",
    "data_dir = retraction_index_path+'/data/' # data directory\n",
    "result_dir = retraction_index_path+'/result/'"
   ]
  },
  {
   "cell_type": "code",
   "execution_count": null,
   "id": "128a10be",
   "metadata": {},
   "outputs": [],
   "source": [
    "# Supply the date of  retracted items were collected from each source and unionlist created date\n",
    "getdate = {'unionlist':'2024-07-09'\n",
    "          } "
   ]
  },
  {
   "cell_type": "code",
   "execution_count": null,
   "id": "4655025d",
   "metadata": {},
   "outputs": [],
   "source": [
    "unionlist3_adjusted= pd.read_csv(data_dir+'unionlist/unionlist_completed_ria_'+getdate['unionlist']+'.csv')\n",
    "\n",
    "# reformatting ['PubMedID'] column\n",
    "unionlist3_adjusted['PubMedID'].fillna(0, inplace=True)\n",
    "unionlist3_adjusted['PubMedID']= unionlist3_adjusted['PubMedID'].astype(int).astype(str)\n",
    "unionlist3_adjusted['PubMedID'].replace(0,'', inplace=True)\n",
    "\n",
    "unionlist3_adjusted"
   ]
  },
  {
   "cell_type": "code",
   "execution_count": null,
   "id": "f362437e",
   "metadata": {},
   "outputs": [],
   "source": [
    "unionlist3_adjusted.info()"
   ]
  },
  {
   "cell_type": "markdown",
   "id": "841dd005",
   "metadata": {},
   "source": [
    "## Section 7: Investigating 100% RetractionIndexingAgreement"
   ]
  },
  {
   "cell_type": "code",
   "execution_count": null,
   "id": "d70cf37f",
   "metadata": {},
   "outputs": [],
   "source": [
    "\"\"\"\n",
    "Investigating number source across 100% RetractionIndexingAgreement\n",
    "\"\"\"\n",
    "\n",
    "def ria100_distribution(source):\n",
    "    \"\"\"\n",
    "    It finds the distribution of 100% RetractionIndexingAgreement_ITEM(%) for a given source: finding out\n",
    "    how many databases also index retracted items alongside the source database\n",
    "    :param source: database to check \n",
    "    :return: dataframe of indexed sources distribution\n",
    "    \"\"\"\n",
    "    \n",
    "    df100 = unionlist3_adjusted[unionlist3_adjusted['RetractionIndexingAgreement_ITEM(%)']==100].copy()\n",
    "    s100= df100[df100.source_new.apply(lambda x: source in x )].copy()\n",
    "    s100['size_source_old']= s100['source_old'].apply(lambda x: len(list(x.split(','))))\n",
    "    s_count= dict(Counter(s100['size_source_old']))\n",
    "\n",
    "    df = pd.DataFrame(s_count.items(), columns=['Category', 'Count'])\n",
    "    \n",
    "    df['LogCount'] = np.log(df['Count'] + 1)\n",
    "    \n",
    "    # Calculate the percentage of log count\n",
    "    total_log_count = df['LogCount'].sum()\n",
    "    df['LogCountPercentage'] = (df['LogCount'] / total_log_count) * 100\n",
    "    \n",
    "    # Compute the percentage\n",
    "    total_count = df['Count'].sum()\n",
    "    df['Percentage'] = (df['Count'] / total_count) * 100\n",
    "    df.reset_index(drop='na', inplace=True)\n",
    "    return df\n",
    "    "
   ]
  },
  {
   "cell_type": "code",
   "execution_count": null,
   "id": "05be1e2b",
   "metadata": {},
   "outputs": [],
   "source": [
    "\"\"\"\n",
    "Confirmation count at 100% of Retraction Indexing Agreement\n",
    "\"\"\"\n",
    "ria100_distribution('WoS_Core') #['Count'].sum()\n"
   ]
  },
  {
   "cell_type": "code",
   "execution_count": null,
   "id": "779d83e9",
   "metadata": {},
   "outputs": [],
   "source": [
    "\"\"\"\n",
    "Items with Percentage of RIA < 50%\n",
    "\"\"\"\n",
    "(unionlist3_adjusted[unionlist3_adjusted['RetractionIndexingAgreement_ITEM(%)']<50].count()[0]/len(unionlist3_adjusted))*100\n"
   ]
  },
  {
   "cell_type": "code",
   "execution_count": null,
   "id": "4685fbe8",
   "metadata": {},
   "outputs": [],
   "source": [
    "\"\"\"\n",
    "Percentage of items that their RIA score is not 100%  \n",
    "\"\"\"\n",
    "df100 = unionlist3_adjusted[unionlist3_adjusted['RetractionIndexingAgreement_ITEM(%)']==100].copy()\n",
    "not_RIA100= len(unionlist3_adjusted) - len(df100)\n",
    "(not_RIA100/len(unionlist3_adjusted)) *100"
   ]
  },
  {
   "cell_type": "code",
   "execution_count": null,
   "id": "dbe36ed9",
   "metadata": {},
   "outputs": [],
   "source": [
    "\"\"\"\n",
    "Distribution of 100 RetractionIndexingAgreement by source\n",
    "\"\"\"\n",
    "\n",
    "list_ria100= df100['source_old'].apply(eval).tolist()\n",
    "print(f\"Total items with 100% RIA is {len(list_ria100)}\")\n",
    "source_ria100= [x[0] for x in list_ria100]\n",
    "Counter(source_ria100)"
   ]
  },
  {
   "cell_type": "code",
   "execution_count": null,
   "id": "4e63fe01",
   "metadata": {},
   "outputs": [],
   "source": [
    "\"\"\"\n",
    "Distribution of 100 RetractionIndexingAgreement by source\n",
    "\"\"\"\n",
    "list_ria100= df100['source_old'].apply(eval).tolist()\n",
    "length_ria100= [len(x) for x in list_ria100]\n",
    "print(\"Numbers of databases (k) with numbers of retracted items indexed (v)\")\n",
    "print(Counter(length_ria100))\n",
    "x100ria= Counter(length_ria100)\n",
    "for k,v in x100ria.items():\n",
    "    print(k,':\\t',v,'\\t-',((v/len(list_ria100))*100))\n"
   ]
  },
  {
   "cell_type": "code",
   "execution_count": null,
   "id": "14a4e3f8",
   "metadata": {},
   "outputs": [],
   "source": [
    "\"\"\"\n",
    "Investigating number intersection among indexing sources \n",
    "\"\"\"\n",
    "\n",
    "all_inter_idx = unionlist3_adjusted['source_old'].copy()\n",
    "list_all_inter_idx = all_inter_idx.apply(lambda x: len(list(x.split(','))))\n",
    "result_all_inter_idx =Counter(list_all_inter_idx)\n",
    "print(result_all_inter_idx)\n",
    "\n",
    "# % of items in the union list that cut across all the databases\n",
    "result_all_inter_idx[11]/sum(result_all_inter_idx.values())*100"
   ]
  },
  {
   "cell_type": "code",
   "execution_count": null,
   "id": "7b0286fe",
   "metadata": {},
   "outputs": [],
   "source": [
    "\"\"\"\n",
    "Percentage missed out by Retraction Watch\n",
    "\"\"\"\n",
    "no_rw = unionlist3_adjusted[unionlist3_adjusted['source_old'].str.contains('Retraction Watch')].count().iloc[0]\n",
    "print(f'RetractionWatch is {no_rw} items, which only accounts for {no_rw/len(unionlist3_adjusted)*100}% of \\\n",
    "{len(unionlist3_adjusted)}-item unionlist')\n",
    "\n",
    "print(f'The RetractionWatch source misses about {len(unionlist3_adjusted)- no_rw} items ({100 - (no_rw/len(unionlist3_adjusted)*100)}%)')\n"
   ]
  },
  {
   "cell_type": "code",
   "execution_count": null,
   "id": "acc93ec1",
   "metadata": {},
   "outputs": [],
   "source": [
    "def what_is_missed(source):\n",
    "    \"\"\"\n",
    "    It calculates the numbers of retracted items that data source failed to account for\n",
    "    :param source: the given database\n",
    "    \n",
    "    \"\"\"\n",
    "    source_new = unionlist3_adjusted[unionlist3_adjusted['source_new'].str.contains(source)].count().iloc[0]\n",
    "    print(\"Total # Covered: \",source_new)\n",
    "\n",
    "    source_old = unionlist3_adjusted[unionlist3_adjusted['source_old'].str.contains(source)].count().iloc[0]\n",
    "    print(\"Total # Indexed: \",source_old)\n",
    "\n",
    "    print(f\" The total items missed by {source} is {source_new - source_old}\")"
   ]
  },
  {
   "cell_type": "code",
   "execution_count": null,
   "id": "71ee46aa",
   "metadata": {},
   "outputs": [],
   "source": [
    "\"\"\"\n",
    "Indexed items missed out by Sources\n",
    "\"\"\"\n",
    "sources_indexed= ['BCI','BIOABS','CCC','Compendex','Crossref', 'GEOBASE', 'Medline',\n",
    "                   'PubMed', 'Retraction Watch', 'Scopus', 'WoS_Core']\n",
    "with pd.option_context('mode.chained_assignment', None):\n",
    "    for source in sources_indexed:\n",
    "        what_is_missed(source)\n",
    "        print(\"*\"*30)"
   ]
  },
  {
   "cell_type": "code",
   "execution_count": null,
   "id": "544502d0",
   "metadata": {},
   "outputs": [],
   "source": [
    "\"\"\"\n",
    "Knowing the oldest indexed paper\n",
    "\"\"\"\n",
    "unionlist3_adjusted[unionlist3_adjusted['Year']== (unionlist3_adjusted['Year'].min())]"
   ]
  },
  {
   "cell_type": "code",
   "execution_count": null,
   "id": "ac1afd56",
   "metadata": {},
   "outputs": [],
   "source": [
    "unionlist3_adjusted.loc[4915]['Title']"
   ]
  },
  {
   "cell_type": "code",
   "execution_count": null,
   "id": "f75c357a",
   "metadata": {},
   "outputs": [],
   "source": [
    "\"\"\"\n",
    "Import STI2023 unionlist\n",
    "\"\"\"\n",
    "unionlist_sti = pd.read_csv(retraction_index_path+\"/STI2023/2023-09-03_journalcategory_knownretractionlist_updated.csv\").drop(['Unnamed: 0'],axis=1)\n",
    "unionlist_sti['DOI']= unionlist_sti['DOI'].str.lower().astype(str)\n",
    "unionlist_sti.head()"
   ]
  },
  {
   "cell_type": "code",
   "execution_count": null,
   "id": "c85f567e",
   "metadata": {},
   "outputs": [],
   "source": [
    "\"\"\"\n",
    "unionlist_crws: Items from Crossref, Retraction Watch, Web of Science Core, Scopus in present union list\n",
    "\"\"\"\n",
    "unionlist_crws= unionlist3_adjusted[unionlist3_adjusted['source_old'].str.strip().str.contains(r'WoS_Core|Retraction Watch|Scopus|Crossref')].copy()\n",
    "len(unionlist_crws)"
   ]
  },
  {
   "cell_type": "code",
   "execution_count": null,
   "id": "54dd7cda",
   "metadata": {},
   "outputs": [],
   "source": [
    "\"\"\"\n",
    "STI2023 present in unionlist_crws\n",
    "\"\"\"\n",
    "unionlist_crws[unionlist_crws['DOI'].isin(unionlist_sti['DOI'])]"
   ]
  },
  {
   "cell_type": "code",
   "execution_count": null,
   "id": "acad034e",
   "metadata": {},
   "outputs": [],
   "source": [
    "\"\"\"\n",
    "# newly added DOIs from STI2023 period to Unionlist_CRWS in Jul 2024 \n",
    "\"\"\"\n",
    "print(f'Estimating the # of items newly added and indexed in Crossref, Scopus, Retraction Watch, Web of Science Core:\\n {(len(unionlist_crws) - len(unionlist_sti))}')\n",
    "\n",
    "crws_per_added= ((len(unionlist_crws) - len(unionlist_sti))/len(unionlist_sti)) #*100\n",
    "print(f'The estimated percentage of newly added DOIs: {crws_per_added*100}')"
   ]
  },
  {
   "cell_type": "code",
   "execution_count": null,
   "id": "a10b74cf",
   "metadata": {},
   "outputs": [],
   "source": [
    "\"\"\"\n",
    "Examining the Actual DOIs of STI2023 not in Unionlist_crws 2024\n",
    "\"\"\"\n",
    "pass"
   ]
  },
  {
   "cell_type": "code",
   "execution_count": null,
   "id": "3a2a2511",
   "metadata": {},
   "outputs": [],
   "source": [
    "\"\"\"\n",
    "Finding DOIs in Unionlist CRWS 2024 and not in STI2023 unionlist:\n",
    "Actual newly added DOIs in Unionlist_crws\n",
    "\"\"\"\n",
    "diff_notin_sti_doi= set(unionlist_crws['DOI'] ) - set(unionlist_sti['DOI'])\n",
    "print(f\"The total DOIs in Unionlist CRWS 2024 and not in STI2023 is: {len(diff_notin_sti_doi)}\")\n",
    "print(f\"{(len(diff_notin_sti_doi)/len(unionlist_sti))*100}% increase\")"
   ]
  },
  {
   "cell_type": "code",
   "execution_count": null,
   "id": "7c7fc8a3",
   "metadata": {
    "scrolled": true
   },
   "outputs": [],
   "source": [
    "\"\"\"\n",
    "Finding DOIs in STI unionlist and not in Unionlist CRWS 2024\n",
    "\"\"\"\n",
    "diff_in_ul24_doi= set(unionlist_sti['DOI']) - set(unionlist_crws['DOI'])\n",
    "\n",
    "print(f\"The total DOIs in STI2023 and not in Unionlist CRWS 2024 is: {len(diff_in_ul24_doi)}\")"
   ]
  },
  {
   "cell_type": "code",
   "execution_count": null,
   "id": "f6b08e3d",
   "metadata": {},
   "outputs": [],
   "source": [
    "def get_doi_count(df,column, source):\n",
    "    \"\"\"\n",
    "    It counts numbers of DOIs in a source\n",
    "    :param df: DataFrame to search from\n",
    "    :param column: Column to search in\n",
    "    :param source: the source name to search\n",
    "    \n",
    "    :return: numbers of DOIs found\n",
    "    \"\"\"\n",
    "    count= df[df[column].str.contains(source)].count().iloc[0]\n",
    "    return count"
   ]
  },
  {
   "cell_type": "code",
   "execution_count": null,
   "id": "d096d34c",
   "metadata": {},
   "outputs": [],
   "source": [
    "\"\"\"\n",
    "Finding the breakdown of DOIs that are missing in CRWS databases of present union list 2024\n",
    "\"\"\"\n",
    "df_diff_notin_ul24= unionlist_sti[unionlist_sti['DOI'].isin(diff_in_ul24_doi)]\n",
    "\n",
    "ndoi_not_in_Crossref= get_doi_count(df_diff_notin_ul24, 'source', 'Crossref') #190\n",
    "ndoi_not_in_RW= get_doi_count(df_diff_notin_ul24, 'source', 'Retraction Watch') #45\n",
    "ndoi_not_in_Scopus= get_doi_count(df_diff_notin_ul24, 'source', 'Scopus') #69\n",
    "ndoi_not_in_WoS= get_doi_count(df_diff_notin_ul24, 'source', 'Web of Science') #2011\n",
    "\n",
    "print(f'The total numbers of DOIs in STI2023 and not in Unionlist CRWS 2024 is: {len(df_diff_notin_ul24)}')\n",
    "\n",
    "print('Here is the breakdown:')\n",
    "print(f\" Crossref: {ndoi_not_in_Crossref}\\n Retraction Watch: {ndoi_not_in_RW}\\n Web of Science: {ndoi_not_in_WoS}\\n Scopus: {ndoi_not_in_Scopus}\")\n",
    "    "
   ]
  },
  {
   "cell_type": "code",
   "execution_count": null,
   "id": "1caf6cc4",
   "metadata": {},
   "outputs": [],
   "source": [
    "\"\"\"\n",
    "Finding 425 DOIs [diff_in_ul24_doi] not found in CRWS unionlist in the remaining databases that are in unionlist 2024\n",
    "\"\"\"\n",
    "x=unionlist3_adjusted[unionlist3_adjusted['DOI'].isin(diff_in_ul24_doi)].copy()\n",
    "\n",
    "print(f\"Of the {len(diff_in_ul24_doi)} STI DOIs not in the current CRWS subset of unionlist 2024,\\n\\\n",
    "{len(x)} DOIs are found in the remaining subset of the unionlist 2024.\\n\\\n",
    "Remaining {len(diff_in_ul24_doi) - len(x)} DOIs are missing\")\n",
    "\n",
    "x['source_old']= x['source_old'].apply(eval)\n",
    "x_s= x['source_old'].tolist()\n",
    "s_ = []\n",
    "for s in x_s:\n",
    "    s_+=s\n",
    "Counter(s_)"
   ]
  },
  {
   "cell_type": "code",
   "execution_count": null,
   "id": "be67a9f3",
   "metadata": {},
   "outputs": [],
   "source": [
    "unionlist_sti[unionlist_sti['DOI'].isin(diff_in_ul24_doi)]"
   ]
  },
  {
   "cell_type": "code",
   "execution_count": null,
   "id": "043afa25",
   "metadata": {},
   "outputs": [],
   "source": [
    "\"\"\"\n",
    "Comparing Total # retracted item in Crossref, Scopus, Retraction Watch, Web of Science Core compared with STI2023\n",
    "\"\"\"\n",
    "\n",
    "dois_inCommon_crws= unionlist_crws[unionlist_crws['DOI'].isin(unionlist_sti['DOI'])].copy()\n",
    "dois_inCommon_crws"
   ]
  },
  {
   "cell_type": "code",
   "execution_count": null,
   "id": "08d359a3",
   "metadata": {},
   "outputs": [],
   "source": [
    "\"\"\"\n",
    "Comparing Total # retracted item in Crossref, Scopus, Retraction Watch, Web of Science Core compared with STI2023\n",
    "Newly added DOIs from STI2023 to unionlist_crws 2024\n",
    "\"\"\"\n",
    "\n",
    "newly_added_crws= unionlist_crws[~unionlist_crws['DOI'].isin(unionlist_sti['DOI'])].copy()\n",
    "newly_added_crws"
   ]
  },
  {
   "cell_type": "code",
   "execution_count": null,
   "id": "0aad5eb9",
   "metadata": {},
   "outputs": [],
   "source": [
    "\"\"\"\n",
    "Loading PMIDs of records with no DOI from STI: Crossref, Web of Science (276), Retraction Watch (682), Scopus (8)\n",
    "\"\"\"\n",
    "with open (retraction_index_path+\"/STI2023/nodoi_sti_pmids.txt\",'r') as fn:#.drop(['Unnamed: 0'],axis=1)\n",
    "    sti_nodoi_pmids = fn.read().split('\\n') "
   ]
  },
  {
   "cell_type": "code",
   "execution_count": null,
   "id": "be2daa71",
   "metadata": {},
   "outputs": [],
   "source": [
    "len(set(sti_nodoi_pmids))"
   ]
  },
  {
   "cell_type": "code",
   "execution_count": null,
   "id": "1eaf9d3b",
   "metadata": {},
   "outputs": [],
   "source": [
    "\"\"\"\n",
    "Filtering PMIDs in STI2023 NoDOI that are not in STI Unionlist\n",
    "    Because some PMIDs in STI2023 NoDOI also exist in STI unionlist, that is, \n",
    "    PMIDs are messy and the same PMID can occur for multiple items in the unionlist\n",
    "\"\"\"\n",
    "unionlist_sti['PubMedID']=unionlist_sti['PubMedID'].fillna('0').astype(int).astype(str)\n",
    "\n",
    "# Getting STI NoDOI PMIDs that appear in STI unionlist\n",
    "sti_nodoi_pmids_in_ul= unionlist_sti[unionlist_sti['PubMedID'].isin(sti_nodoi_pmids)]['PubMedID'].tolist()\n",
    "\n",
    "# STI NoDOI PMIDs that do not appear in STI unionlist\n",
    "sti_nodoi_pmids_notin_ul= list(set(sti_nodoi_pmids) - set(sti_nodoi_pmids_in_ul))\n",
    "sti_nodoi_pmids_notin_ul.remove('')\n",
    "len(sti_nodoi_pmids_notin_ul)\n",
    "\n",
    "print(f\"# of PMIDs with No DOI that were discarded during STI2023 unionlist formation, i.e.,\")\n",
    "print(f\"The total # PMIDs without DOI in STI2023 unionlist is {len(sti_nodoi_pmids_notin_ul)}\")\n"
   ]
  },
  {
   "cell_type": "code",
   "execution_count": null,
   "id": "4e1c7678",
   "metadata": {},
   "outputs": [],
   "source": [
    "# These PMIDs are filtered out in the previous step since they occur for multiple items in the STI unionlist\n",
    "unionlist_sti[unionlist_sti['PubMedID'].isin(sti_nodoi_pmids)]"
   ]
  },
  {
   "cell_type": "code",
   "execution_count": null,
   "id": "20abcb5d",
   "metadata": {},
   "outputs": [],
   "source": [
    "'0' in sti_nodoi_pmids_notin_ul"
   ]
  },
  {
   "cell_type": "code",
   "execution_count": null,
   "id": "74f71783",
   "metadata": {},
   "outputs": [],
   "source": [
    "\"\"\"\n",
    "Finding items with PMIDs and no DOIs during STI2023 unionlist formation that are now present Unionlist 2024\n",
    "i.e. Filtering PMIDs of STI NoDOI in Unionlist 2024\n",
    "\"\"\"\n",
    "df_sti_nodoi_pmid_inUnionlist= unionlist3_adjusted[(unionlist3_adjusted['PubMedID']!='') &\\\n",
    "                      (unionlist3_adjusted['PubMedID'].isin(sti_nodoi_pmids_notin_ul))]\n",
    "\n",
    "df_sti_nodoi_pmid_inUnionlist"
   ]
  },
  {
   "cell_type": "code",
   "execution_count": null,
   "id": "fada5422",
   "metadata": {},
   "outputs": [],
   "source": [
    "\"\"\"\n",
    "Finding STI2023 PMIDs with noDOI found in Unionlist 2024 & of which that have DOIs\n",
    "\"\"\"\n",
    "\n",
    "with_nodoi_ID= df_sti_nodoi_pmid_inUnionlist[df_sti_nodoi_pmid_inUnionlist['DOI']\\\n",
    "                                             .str.startswith('nodoi')].count().iloc[0]\n",
    "\n",
    "print(f\"Of the total {len(df_sti_nodoi_pmid_inUnionlist)} STI NoDOI PMIDs items found in the new Unionlist 2024:\\\n",
    "        \\n{with_nodoi_ID} have 'nodoi' IDs and {len(df_sti_nodoi_pmid_inUnionlist) - with_nodoi_ID} have DOI IDs\")"
   ]
  },
  {
   "cell_type": "code",
   "execution_count": null,
   "id": "e443c73e",
   "metadata": {},
   "outputs": [],
   "source": [
    "df_sti_nodoi_pmid_inUnionlist"
   ]
  },
  {
   "cell_type": "code",
   "execution_count": null,
   "id": "bb508f57",
   "metadata": {},
   "outputs": [],
   "source": [
    "\"\"\"\n",
    "Finding STI2023 PMIDs with noDOI found in unionlist_crws 2024 & of which that have DOIs \n",
    "\"\"\"\n",
    "nfoundIn_unionlist_crws=df_sti_nodoi_pmid_inUnionlist[df_sti_nodoi_pmid_inUnionlist['source_old'].str.strip().str.\\\n",
    "                                                      contains(r'WoS_Core|Retraction Watch|Scopus|Crossref')].count().iloc[0]\n",
    "\n",
    "print(f\"# of STI2023 records with noDOI but PMID found in unionlist_crws 2024 is {nfoundIn_unionlist_crws}\")"
   ]
  },
  {
   "cell_type": "code",
   "execution_count": null,
   "id": "ae9c7d2b",
   "metadata": {},
   "outputs": [],
   "source": [
    "\"\"\"\n",
    "Finding DOIs in unionlist CRWS 2024 and not in STI unionlist: Actual newly added DOIs in Unionlist_crws\n",
    "\"\"\"\n",
    "len(set(unionlist_crws['DOI']))- len(set(unionlist_sti['DOI']))\n"
   ]
  },
  {
   "cell_type": "code",
   "execution_count": null,
   "id": "fb28f8cb",
   "metadata": {},
   "outputs": [],
   "source": [
    "d=set(newly_added_crws['DOI'])- set(df_sti_nodoi_pmid_inUnionlist['DOI'])\n",
    "\n",
    "newly_added_crws[newly_added_crws['DOI'].isin(d)].count()"
   ]
  },
  {
   "cell_type": "code",
   "execution_count": null,
   "id": "8a98bc39",
   "metadata": {},
   "outputs": [],
   "source": [
    "\"\"\"\n",
    "Finding the DOIs published in Year 2024 (to Jul) in newly added DOIs to unionlist_crws 2024\n",
    "\n",
    "newly_added_crws = Newly added DOIs from STI2023 to unionlist_crws 2024\n",
    "df_sti_nodoi_pmid_inUnionlist = unionlist 2024 items where PMID was previously dropped from STI2023\n",
    "\n",
    "newly_added_crws= unionlist_crws[~unionlist_crws['DOI'].isin(unionlist_sti['DOI'])].copy()\n",
    "df_sti_nodoi_pmid_inUnionlist = unionlist3_adjusted[(unionlist3_adjusted['PubMedID']!='') &\\\n",
    "                      (unionlist3_adjusted['PubMedID'].isin(sti_nodoi_pmids_notin_ul))]\n",
    "\"\"\"\n",
    "\n",
    "newly_added_crws[~newly_added_crws['DOI'].isin(df_sti_nodoi_pmid_inUnionlist['DOI'])\\\n",
    "                 & (newly_added_crws['Year']==2024)]#.count()"
   ]
  },
  {
   "cell_type": "code",
   "execution_count": null,
   "id": "7413e646",
   "metadata": {},
   "outputs": [],
   "source": [
    "\"\"\"\n",
    "Finding the DOIs published in the remaining Year 2023 (from Feb) after STI2023 unionlist\n",
    "\n",
    "newly_added_crws = Newly added DOIs from STI2023 to unionlist_crws 2024\n",
    "df_sti_nodoi_pmid_inUnionlist = unionlist 2024 items where PMID was previously dropped from STI2023\n",
    "\n",
    "newly_added_crws= unionlist_crws[~unionlist_crws['DOI'].isin(unionlist_sti['DOI'])].copy()\n",
    "df_sti_nodoi_pmid_inUnionlist = unionlist3_adjusted[(unionlist3_adjusted['PubMedID']!='') &\\\n",
    "                      (unionlist3_adjusted['PubMedID'].isin(sti_nodoi_pmids_notin_ul))]\n",
    "\"\"\"\n",
    "\n",
    "newly_added_crws[~newly_added_crws['DOI'].isin(df_sti_nodoi_pmid_inUnionlist['DOI'])\\\n",
    "                 & (newly_added_crws['Year']==2023)]"
   ]
  },
  {
   "cell_type": "code",
   "execution_count": null,
   "id": "acf4efa2",
   "metadata": {},
   "outputs": [],
   "source": [
    "# all new items in Unionlist_crws 2024\n",
    "\n",
    "unionlist_crws[~unionlist_crws['DOI'].isin(unionlist_sti['DOI'])]"
   ]
  },
  {
   "cell_type": "code",
   "execution_count": null,
   "id": "064c89c2",
   "metadata": {},
   "outputs": [],
   "source": [
    "\"\"\"\n",
    "Investigating number intersection among covered sources \n",
    "\"\"\"\n",
    "all_inter_cov = unionlist3_adjusted['source_new'].copy()\n",
    "list_all_inter_cov = all_inter_cov.apply(lambda x: len(list(x.split(','))))\n",
    "result_all_inter_cov =Counter(list_all_inter_cov)\n",
    "\n",
    "print(result_all_inter_cov)\n",
    "print(f'The total # of items covered by all the {max(result_all_inter_cov.keys())} sources is: \\\n",
    "{result_all_inter_cov[max(result_all_inter_cov.keys())]}, which is \\\n",
    "{result_all_inter_cov[11]/sum(result_all_inter_cov.values())*100}%')"
   ]
  },
  {
   "cell_type": "code",
   "execution_count": null,
   "id": "2ff41423",
   "metadata": {},
   "outputs": [],
   "source": [
    "\"\"\"\n",
    "% Items that has Retraction Year\n",
    "\"\"\"\n",
    "rt= len(unionlist3_adjusted[unionlist3_adjusted['RetractionYear']>0])\n",
    "print(f\"The total number of items in the unionlist that have RetractionYear: {rt} of {len(unionlist3_adjusted)} i.e. \\n {rt/len(unionlist3_adjusted)*100}%\")\n"
   ]
  },
  {
   "cell_type": "code",
   "execution_count": null,
   "id": "292cceb1",
   "metadata": {},
   "outputs": [],
   "source": [
    "\"\"\"\n",
    "Calculate items retracted in less 3 years\n",
    "\"\"\"\n",
    "rt_2yrs= unionlist3_adjusted[(unionlist3_adjusted['RetractionYear']>0) & (unionlist3_adjusted['TimetoRetraction']<=2)] #.count()[0]\n",
    "\n",
    "print(f\"Retracted items retracted within 2 years is {len(rt_2yrs)} of {rt}  i.e. {(len(rt_2yrs)/rt)*100}%  \")"
   ]
  },
  {
   "cell_type": "code",
   "execution_count": null,
   "id": "3ebf09c9",
   "metadata": {},
   "outputs": [],
   "source": [
    "sources_indexed"
   ]
  },
  {
   "cell_type": "code",
   "execution_count": null,
   "id": "9496432c",
   "metadata": {},
   "outputs": [],
   "source": [
    "\"\"\"\n",
    "Calculating # of databases co-indexing retracted paper at 100% RIA\n",
    "\"\"\"\n",
    "\n",
    "for s in sources_indexed:\n",
    "    print(s)\n",
    "    print(f\"(Database#, DOIs#)\")\n",
    "    result_100_df = ria100_distribution(s)\n",
    "    s_result= list(zip(result_100_df['Category'],result_100_df['Count']))\n",
    "    print(f\" Total items with 100% RIA: {result_100_df['Count'].sum()}\")\n",
    "    s_result=sorted(s_result, key=lambda x: x[1], reverse=True, )\n",
    "    print(s_result)\n",
    "    print(\"*\"*20)\n",
    "    \n",
    "\"\"\"\n",
    "Sample of analysis:\n",
    "BCI 83.1% (732/881) in with 8 other databases, no items uniquely indexed as retracted\n",
    "BIOABS 83.4% (732/878) in with 8 other databases, no items uniquely indexed as retracted \n",
    "CCC 59.5% (732/1230) in with 8 other databases, no items uniquely indexed as retracted \n",
    "Compendex 30.1% (52/173) with 9 others, no items uniquely indexed as retracted\n",
    "Crossref 14.9% (732/4897) with 8 others and 3091 i.e. (63.1%, 3091/4897) items uniquely indexed as retracted\n",
    "GEOBASE 83.5% (344/412) with 3 others, no items uniquely indexed\n",
    "MEDLINE  59.1% (732/1238) with 8 others,  no items uniquely indexed\n",
    "PubMed 39.6% (732/1847) with 8 others,  607 i.e (32.9%, 607/1847) items uniquely indexed\n",
    "Retraction Watch 30.7% (731/2380) with 8 other databases, 566 i.e. (23.8%, 566/2380) items uniquely indexed\n",
    "Scopus 44.3% (732/1651) with 8 other databases, 4 i.e. (0.24%, 4/1651) items uniquely indexed\n",
    "Web of Science Core 58.7% (732/1247) with 8 other databases, 1 item uniquely indexed\n",
    "\"\"\"\n",
    "pass"
   ]
  },
  {
   "cell_type": "code",
   "execution_count": null,
   "id": "b2f4fd89",
   "metadata": {},
   "outputs": [],
   "source": [
    "# Calculating items retracted in year 2023 from STI2023\n",
    "n_sti_2023items= len(unionlist_sti[unionlist_sti['Year']==2023])\n",
    "n_sti_2023items"
   ]
  },
  {
   "cell_type": "code",
   "execution_count": null,
   "id": "d28aaa6a",
   "metadata": {},
   "outputs": [],
   "source": [
    "# Filter current Unionlist 2024 for items from year 2023\n",
    "\n",
    "ul_2023= unionlist3_adjusted[unionlist3_adjusted['Year']>=2023]"
   ]
  },
  {
   "cell_type": "code",
   "execution_count": null,
   "id": "4c7c58a8",
   "metadata": {},
   "outputs": [],
   "source": [
    "now_ul_2023items= len(unionlist3_adjusted[unionlist3_adjusted['Year']>=2023])\n",
    "print(f'The total number of retracted items from 2023 to date in our present unionlist is {now_ul_2023items}')\n",
    "now_ul_2023items\n",
    "\n",
    "# % increase between 2023 and now using all items in present UList\n",
    "((now_ul_2023items - n_sti_2023items)/n_sti_2023items)*100"
   ]
  },
  {
   "cell_type": "code",
   "execution_count": null,
   "id": "b5df8223",
   "metadata": {},
   "outputs": [],
   "source": [
    "unionlist3_adjusted.columns"
   ]
  },
  {
   "cell_type": "code",
   "execution_count": null,
   "id": "4ae89a65",
   "metadata": {},
   "outputs": [],
   "source": [
    "# Find # of items without Retraction Year\n",
    "no_withRY= len(ul_2023[(ul_2023['RetractionYear']!=2023) & (ul_2023['RetractionYear']!=2024)])\n",
    "\n",
    "print(f'Numbers of items without retraction year is {no_withRY} items between 2023 & now 2024')"
   ]
  },
  {
   "cell_type": "code",
   "execution_count": null,
   "id": "d3edc1f2",
   "metadata": {},
   "outputs": [],
   "source": [
    "# Estimating # of conference|proceeding|workshop|symposium in union list\n",
    "items= r'conference|proceeding|workshop|symposium'\n",
    "est_conf= unionlist3_adjusted[unionlist3_adjusted['Journal'].str.contains(items, case=False)]\n",
    "print(f'The total number of conference in the union list is {len(est_conf)}')"
   ]
  },
  {
   "cell_type": "code",
   "execution_count": null,
   "id": "400a5607",
   "metadata": {},
   "outputs": [],
   "source": [
    "\"\"\"\n",
    "Investigating items indexed in PubMed and not in Medline\n",
    "\"\"\"\n",
    "\n",
    "doi_pubmed= unionlist3_adjusted[unionlist3_adjusted['source_old'].apply(lambda x: 'PubMed' in x)]['DOI']\n",
    "doi_medline= unionlist3_adjusted[unionlist3_adjusted['source_old'].apply(lambda x: 'Medline' in x)]['DOI']\n",
    "\n",
    "diff_pubmed_medline = set(doi_pubmed) - set(doi_medline)\n",
    "\n",
    "unionlist3_adjusted[unionlist3_adjusted['DOI'].isin(diff_pubmed_medline)] \\\n",
    "# .to_csv(data_dir+'items_inpubmed_notin_medline.csv')"
   ]
  },
  {
   "cell_type": "code",
   "execution_count": null,
   "id": "58f2518b",
   "metadata": {},
   "outputs": [],
   "source": [
    "\"\"\"\n",
    "Investigating items indexed in Medline and not in PubMed\n",
    "\"\"\"\n",
    "\n",
    "diff_medline_pubmed = set(doi_medline) - set(doi_pubmed)\n",
    "unionlist3_adjusted[unionlist3_adjusted['DOI'].isin(diff_medline_pubmed)] \\\n",
    "# .to_csv(data_dir+'items_inmedline_notin_pubmed.csv')"
   ]
  },
  {
   "cell_type": "markdown",
   "id": "c7baa21f",
   "metadata": {},
   "source": [
    "### END"
   ]
  },
  {
   "cell_type": "code",
   "execution_count": null,
   "id": "e38abee8",
   "metadata": {},
   "outputs": [],
   "source": []
  }
 ],
 "metadata": {
  "kernelspec": {
   "display_name": "Python 3 (ipykernel)",
   "language": "python",
   "name": "python3"
  },
  "language_info": {
   "codemirror_mode": {
    "name": "ipython",
    "version": 3
   },
   "file_extension": ".py",
   "mimetype": "text/x-python",
   "name": "python",
   "nbconvert_exporter": "python",
   "pygments_lexer": "ipython3",
   "version": "3.9.12"
  }
 },
 "nbformat": 4,
 "nbformat_minor": 5
}
